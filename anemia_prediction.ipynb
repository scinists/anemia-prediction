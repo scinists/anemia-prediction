{
  "nbformat": 4,
  "nbformat_minor": 0,
  "metadata": {
    "colab": {
      "provenance": []
    },
    "kernelspec": {
      "name": "python3",
      "display_name": "Python 3"
    },
    "language_info": {
      "name": "python"
    }
  },
  "cells": [
    {
      "cell_type": "code",
      "execution_count": 1,
      "metadata": {
        "id": "FWXWywbw1_MY"
      },
      "outputs": [],
      "source": [
        "import numpy as np\n",
        "import pandas as pd\n",
        "import matplotlib.pyplot"
      ]
    },
    {
      "cell_type": "markdown",
      "source": [
        "# ***DATA PREPROCESSING***"
      ],
      "metadata": {
        "id": "XV4m6oOR8yo7"
      }
    },
    {
      "cell_type": "code",
      "source": [
        "df = pd.read_csv(\"Anemia.csv\")\n",
        "df"
      ],
      "metadata": {
        "id": "e0bYkKdQ2zTm",
        "colab": {
          "base_uri": "https://localhost:8080/",
          "height": 411
        },
        "outputId": "8631af77-98db-45fb-934e-408d3132f05e"
      },
      "execution_count": 2,
      "outputs": [
        {
          "output_type": "execute_result",
          "data": {
            "text/plain": [
              "     Number Sex  %Red Pixel  %Green pixel  %Blue pixel    Hb Anaemic\n",
              "0         1   M     43.2555       30.8421      25.9025   6.3     Yes\n",
              "1         2   F     45.6033       28.1900      26.2067  13.5      No\n",
              "2         3  F      45.0107       28.9677      26.0215  11.7      No\n",
              "3         4   F     44.5398       28.9899      26.4703  13.5      No\n",
              "4         5  M      43.2870       30.6972      26.0158  12.4      No\n",
              "..      ...  ..         ...           ...          ...   ...     ...\n",
              "99      100  F      49.9999       29.2860      20.7141  14.5     Yes\n",
              "100     101  M      42.2324       30.6757      27.0919   6.3     Yes\n",
              "101     102   F     45.6064       31.9084      22.4852  12.7      No\n",
              "102     103  M      45.2095       29.2769      25.5136  13.4      No\n",
              "103     104   F     43.5706       29.8094      26.6199  12.2      No\n",
              "\n",
              "[104 rows x 7 columns]"
            ],
            "text/html": [
              "\n",
              "  <div id=\"df-38c11eb1-462b-4b42-8628-d782a782308e\" class=\"colab-df-container\">\n",
              "    <div>\n",
              "<style scoped>\n",
              "    .dataframe tbody tr th:only-of-type {\n",
              "        vertical-align: middle;\n",
              "    }\n",
              "\n",
              "    .dataframe tbody tr th {\n",
              "        vertical-align: top;\n",
              "    }\n",
              "\n",
              "    .dataframe thead th {\n",
              "        text-align: right;\n",
              "    }\n",
              "</style>\n",
              "<table border=\"1\" class=\"dataframe\">\n",
              "  <thead>\n",
              "    <tr style=\"text-align: right;\">\n",
              "      <th></th>\n",
              "      <th>Number</th>\n",
              "      <th>Sex</th>\n",
              "      <th>%Red Pixel</th>\n",
              "      <th>%Green pixel</th>\n",
              "      <th>%Blue pixel</th>\n",
              "      <th>Hb</th>\n",
              "      <th>Anaemic</th>\n",
              "    </tr>\n",
              "  </thead>\n",
              "  <tbody>\n",
              "    <tr>\n",
              "      <th>0</th>\n",
              "      <td>1</td>\n",
              "      <td>M</td>\n",
              "      <td>43.2555</td>\n",
              "      <td>30.8421</td>\n",
              "      <td>25.9025</td>\n",
              "      <td>6.3</td>\n",
              "      <td>Yes</td>\n",
              "    </tr>\n",
              "    <tr>\n",
              "      <th>1</th>\n",
              "      <td>2</td>\n",
              "      <td>F</td>\n",
              "      <td>45.6033</td>\n",
              "      <td>28.1900</td>\n",
              "      <td>26.2067</td>\n",
              "      <td>13.5</td>\n",
              "      <td>No</td>\n",
              "    </tr>\n",
              "    <tr>\n",
              "      <th>2</th>\n",
              "      <td>3</td>\n",
              "      <td>F</td>\n",
              "      <td>45.0107</td>\n",
              "      <td>28.9677</td>\n",
              "      <td>26.0215</td>\n",
              "      <td>11.7</td>\n",
              "      <td>No</td>\n",
              "    </tr>\n",
              "    <tr>\n",
              "      <th>3</th>\n",
              "      <td>4</td>\n",
              "      <td>F</td>\n",
              "      <td>44.5398</td>\n",
              "      <td>28.9899</td>\n",
              "      <td>26.4703</td>\n",
              "      <td>13.5</td>\n",
              "      <td>No</td>\n",
              "    </tr>\n",
              "    <tr>\n",
              "      <th>4</th>\n",
              "      <td>5</td>\n",
              "      <td>M</td>\n",
              "      <td>43.2870</td>\n",
              "      <td>30.6972</td>\n",
              "      <td>26.0158</td>\n",
              "      <td>12.4</td>\n",
              "      <td>No</td>\n",
              "    </tr>\n",
              "    <tr>\n",
              "      <th>...</th>\n",
              "      <td>...</td>\n",
              "      <td>...</td>\n",
              "      <td>...</td>\n",
              "      <td>...</td>\n",
              "      <td>...</td>\n",
              "      <td>...</td>\n",
              "      <td>...</td>\n",
              "    </tr>\n",
              "    <tr>\n",
              "      <th>99</th>\n",
              "      <td>100</td>\n",
              "      <td>F</td>\n",
              "      <td>49.9999</td>\n",
              "      <td>29.2860</td>\n",
              "      <td>20.7141</td>\n",
              "      <td>14.5</td>\n",
              "      <td>Yes</td>\n",
              "    </tr>\n",
              "    <tr>\n",
              "      <th>100</th>\n",
              "      <td>101</td>\n",
              "      <td>M</td>\n",
              "      <td>42.2324</td>\n",
              "      <td>30.6757</td>\n",
              "      <td>27.0919</td>\n",
              "      <td>6.3</td>\n",
              "      <td>Yes</td>\n",
              "    </tr>\n",
              "    <tr>\n",
              "      <th>101</th>\n",
              "      <td>102</td>\n",
              "      <td>F</td>\n",
              "      <td>45.6064</td>\n",
              "      <td>31.9084</td>\n",
              "      <td>22.4852</td>\n",
              "      <td>12.7</td>\n",
              "      <td>No</td>\n",
              "    </tr>\n",
              "    <tr>\n",
              "      <th>102</th>\n",
              "      <td>103</td>\n",
              "      <td>M</td>\n",
              "      <td>45.2095</td>\n",
              "      <td>29.2769</td>\n",
              "      <td>25.5136</td>\n",
              "      <td>13.4</td>\n",
              "      <td>No</td>\n",
              "    </tr>\n",
              "    <tr>\n",
              "      <th>103</th>\n",
              "      <td>104</td>\n",
              "      <td>F</td>\n",
              "      <td>43.5706</td>\n",
              "      <td>29.8094</td>\n",
              "      <td>26.6199</td>\n",
              "      <td>12.2</td>\n",
              "      <td>No</td>\n",
              "    </tr>\n",
              "  </tbody>\n",
              "</table>\n",
              "<p>104 rows × 7 columns</p>\n",
              "</div>\n",
              "    <div class=\"colab-df-buttons\">\n",
              "\n",
              "  <div class=\"colab-df-container\">\n",
              "    <button class=\"colab-df-convert\" onclick=\"convertToInteractive('df-38c11eb1-462b-4b42-8628-d782a782308e')\"\n",
              "            title=\"Convert this dataframe to an interactive table.\"\n",
              "            style=\"display:none;\">\n",
              "\n",
              "  <svg xmlns=\"http://www.w3.org/2000/svg\" height=\"24px\" viewBox=\"0 -960 960 960\">\n",
              "    <path d=\"M120-120v-720h720v720H120Zm60-500h600v-160H180v160Zm220 220h160v-160H400v160Zm0 220h160v-160H400v160ZM180-400h160v-160H180v160Zm440 0h160v-160H620v160ZM180-180h160v-160H180v160Zm440 0h160v-160H620v160Z\"/>\n",
              "  </svg>\n",
              "    </button>\n",
              "\n",
              "  <style>\n",
              "    .colab-df-container {\n",
              "      display:flex;\n",
              "      gap: 12px;\n",
              "    }\n",
              "\n",
              "    .colab-df-convert {\n",
              "      background-color: #E8F0FE;\n",
              "      border: none;\n",
              "      border-radius: 50%;\n",
              "      cursor: pointer;\n",
              "      display: none;\n",
              "      fill: #1967D2;\n",
              "      height: 32px;\n",
              "      padding: 0 0 0 0;\n",
              "      width: 32px;\n",
              "    }\n",
              "\n",
              "    .colab-df-convert:hover {\n",
              "      background-color: #E2EBFA;\n",
              "      box-shadow: 0px 1px 2px rgba(60, 64, 67, 0.3), 0px 1px 3px 1px rgba(60, 64, 67, 0.15);\n",
              "      fill: #174EA6;\n",
              "    }\n",
              "\n",
              "    .colab-df-buttons div {\n",
              "      margin-bottom: 4px;\n",
              "    }\n",
              "\n",
              "    [theme=dark] .colab-df-convert {\n",
              "      background-color: #3B4455;\n",
              "      fill: #D2E3FC;\n",
              "    }\n",
              "\n",
              "    [theme=dark] .colab-df-convert:hover {\n",
              "      background-color: #434B5C;\n",
              "      box-shadow: 0px 1px 3px 1px rgba(0, 0, 0, 0.15);\n",
              "      filter: drop-shadow(0px 1px 2px rgba(0, 0, 0, 0.3));\n",
              "      fill: #FFFFFF;\n",
              "    }\n",
              "  </style>\n",
              "\n",
              "    <script>\n",
              "      const buttonEl =\n",
              "        document.querySelector('#df-38c11eb1-462b-4b42-8628-d782a782308e button.colab-df-convert');\n",
              "      buttonEl.style.display =\n",
              "        google.colab.kernel.accessAllowed ? 'block' : 'none';\n",
              "\n",
              "      async function convertToInteractive(key) {\n",
              "        const element = document.querySelector('#df-38c11eb1-462b-4b42-8628-d782a782308e');\n",
              "        const dataTable =\n",
              "          await google.colab.kernel.invokeFunction('convertToInteractive',\n",
              "                                                    [key], {});\n",
              "        if (!dataTable) return;\n",
              "\n",
              "        const docLinkHtml = 'Like what you see? Visit the ' +\n",
              "          '<a target=\"_blank\" href=https://colab.research.google.com/notebooks/data_table.ipynb>data table notebook</a>'\n",
              "          + ' to learn more about interactive tables.';\n",
              "        element.innerHTML = '';\n",
              "        dataTable['output_type'] = 'display_data';\n",
              "        await google.colab.output.renderOutput(dataTable, element);\n",
              "        const docLink = document.createElement('div');\n",
              "        docLink.innerHTML = docLinkHtml;\n",
              "        element.appendChild(docLink);\n",
              "      }\n",
              "    </script>\n",
              "  </div>\n",
              "\n",
              "\n",
              "<div id=\"df-839a34e2-1162-4ed5-8dcb-2a7bcad458b9\">\n",
              "  <button class=\"colab-df-quickchart\" onclick=\"quickchart('df-839a34e2-1162-4ed5-8dcb-2a7bcad458b9')\"\n",
              "            title=\"Suggest charts\"\n",
              "            style=\"display:none;\">\n",
              "\n",
              "<svg xmlns=\"http://www.w3.org/2000/svg\" height=\"24px\"viewBox=\"0 0 24 24\"\n",
              "     width=\"24px\">\n",
              "    <g>\n",
              "        <path d=\"M19 3H5c-1.1 0-2 .9-2 2v14c0 1.1.9 2 2 2h14c1.1 0 2-.9 2-2V5c0-1.1-.9-2-2-2zM9 17H7v-7h2v7zm4 0h-2V7h2v10zm4 0h-2v-4h2v4z\"/>\n",
              "    </g>\n",
              "</svg>\n",
              "  </button>\n",
              "\n",
              "<style>\n",
              "  .colab-df-quickchart {\n",
              "      --bg-color: #E8F0FE;\n",
              "      --fill-color: #1967D2;\n",
              "      --hover-bg-color: #E2EBFA;\n",
              "      --hover-fill-color: #174EA6;\n",
              "      --disabled-fill-color: #AAA;\n",
              "      --disabled-bg-color: #DDD;\n",
              "  }\n",
              "\n",
              "  [theme=dark] .colab-df-quickchart {\n",
              "      --bg-color: #3B4455;\n",
              "      --fill-color: #D2E3FC;\n",
              "      --hover-bg-color: #434B5C;\n",
              "      --hover-fill-color: #FFFFFF;\n",
              "      --disabled-bg-color: #3B4455;\n",
              "      --disabled-fill-color: #666;\n",
              "  }\n",
              "\n",
              "  .colab-df-quickchart {\n",
              "    background-color: var(--bg-color);\n",
              "    border: none;\n",
              "    border-radius: 50%;\n",
              "    cursor: pointer;\n",
              "    display: none;\n",
              "    fill: var(--fill-color);\n",
              "    height: 32px;\n",
              "    padding: 0;\n",
              "    width: 32px;\n",
              "  }\n",
              "\n",
              "  .colab-df-quickchart:hover {\n",
              "    background-color: var(--hover-bg-color);\n",
              "    box-shadow: 0 1px 2px rgba(60, 64, 67, 0.3), 0 1px 3px 1px rgba(60, 64, 67, 0.15);\n",
              "    fill: var(--button-hover-fill-color);\n",
              "  }\n",
              "\n",
              "  .colab-df-quickchart-complete:disabled,\n",
              "  .colab-df-quickchart-complete:disabled:hover {\n",
              "    background-color: var(--disabled-bg-color);\n",
              "    fill: var(--disabled-fill-color);\n",
              "    box-shadow: none;\n",
              "  }\n",
              "\n",
              "  .colab-df-spinner {\n",
              "    border: 2px solid var(--fill-color);\n",
              "    border-color: transparent;\n",
              "    border-bottom-color: var(--fill-color);\n",
              "    animation:\n",
              "      spin 1s steps(1) infinite;\n",
              "  }\n",
              "\n",
              "  @keyframes spin {\n",
              "    0% {\n",
              "      border-color: transparent;\n",
              "      border-bottom-color: var(--fill-color);\n",
              "      border-left-color: var(--fill-color);\n",
              "    }\n",
              "    20% {\n",
              "      border-color: transparent;\n",
              "      border-left-color: var(--fill-color);\n",
              "      border-top-color: var(--fill-color);\n",
              "    }\n",
              "    30% {\n",
              "      border-color: transparent;\n",
              "      border-left-color: var(--fill-color);\n",
              "      border-top-color: var(--fill-color);\n",
              "      border-right-color: var(--fill-color);\n",
              "    }\n",
              "    40% {\n",
              "      border-color: transparent;\n",
              "      border-right-color: var(--fill-color);\n",
              "      border-top-color: var(--fill-color);\n",
              "    }\n",
              "    60% {\n",
              "      border-color: transparent;\n",
              "      border-right-color: var(--fill-color);\n",
              "    }\n",
              "    80% {\n",
              "      border-color: transparent;\n",
              "      border-right-color: var(--fill-color);\n",
              "      border-bottom-color: var(--fill-color);\n",
              "    }\n",
              "    90% {\n",
              "      border-color: transparent;\n",
              "      border-bottom-color: var(--fill-color);\n",
              "    }\n",
              "  }\n",
              "</style>\n",
              "\n",
              "  <script>\n",
              "    async function quickchart(key) {\n",
              "      const quickchartButtonEl =\n",
              "        document.querySelector('#' + key + ' button');\n",
              "      quickchartButtonEl.disabled = true;  // To prevent multiple clicks.\n",
              "      quickchartButtonEl.classList.add('colab-df-spinner');\n",
              "      try {\n",
              "        const charts = await google.colab.kernel.invokeFunction(\n",
              "            'suggestCharts', [key], {});\n",
              "      } catch (error) {\n",
              "        console.error('Error during call to suggestCharts:', error);\n",
              "      }\n",
              "      quickchartButtonEl.classList.remove('colab-df-spinner');\n",
              "      quickchartButtonEl.classList.add('colab-df-quickchart-complete');\n",
              "    }\n",
              "    (() => {\n",
              "      let quickchartButtonEl =\n",
              "        document.querySelector('#df-839a34e2-1162-4ed5-8dcb-2a7bcad458b9 button');\n",
              "      quickchartButtonEl.style.display =\n",
              "        google.colab.kernel.accessAllowed ? 'block' : 'none';\n",
              "    })();\n",
              "  </script>\n",
              "</div>\n",
              "\n",
              "  <div id=\"id_cdd8b275-b8cd-4a64-b39a-f9e8680807d0\">\n",
              "    <style>\n",
              "      .colab-df-generate {\n",
              "        background-color: #E8F0FE;\n",
              "        border: none;\n",
              "        border-radius: 50%;\n",
              "        cursor: pointer;\n",
              "        display: none;\n",
              "        fill: #1967D2;\n",
              "        height: 32px;\n",
              "        padding: 0 0 0 0;\n",
              "        width: 32px;\n",
              "      }\n",
              "\n",
              "      .colab-df-generate:hover {\n",
              "        background-color: #E2EBFA;\n",
              "        box-shadow: 0px 1px 2px rgba(60, 64, 67, 0.3), 0px 1px 3px 1px rgba(60, 64, 67, 0.15);\n",
              "        fill: #174EA6;\n",
              "      }\n",
              "\n",
              "      [theme=dark] .colab-df-generate {\n",
              "        background-color: #3B4455;\n",
              "        fill: #D2E3FC;\n",
              "      }\n",
              "\n",
              "      [theme=dark] .colab-df-generate:hover {\n",
              "        background-color: #434B5C;\n",
              "        box-shadow: 0px 1px 3px 1px rgba(0, 0, 0, 0.15);\n",
              "        filter: drop-shadow(0px 1px 2px rgba(0, 0, 0, 0.3));\n",
              "        fill: #FFFFFF;\n",
              "      }\n",
              "    </style>\n",
              "    <button class=\"colab-df-generate\" onclick=\"generateWithVariable('df')\"\n",
              "            title=\"Generate code using this dataframe.\"\n",
              "            style=\"display:none;\">\n",
              "\n",
              "  <svg xmlns=\"http://www.w3.org/2000/svg\" height=\"24px\"viewBox=\"0 0 24 24\"\n",
              "       width=\"24px\">\n",
              "    <path d=\"M7,19H8.4L18.45,9,17,7.55,7,17.6ZM5,21V16.75L18.45,3.32a2,2,0,0,1,2.83,0l1.4,1.43a1.91,1.91,0,0,1,.58,1.4,1.91,1.91,0,0,1-.58,1.4L9.25,21ZM18.45,9,17,7.55Zm-12,3A5.31,5.31,0,0,0,4.9,8.1,5.31,5.31,0,0,0,1,6.5,5.31,5.31,0,0,0,4.9,4.9,5.31,5.31,0,0,0,6.5,1,5.31,5.31,0,0,0,8.1,4.9,5.31,5.31,0,0,0,12,6.5,5.46,5.46,0,0,0,6.5,12Z\"/>\n",
              "  </svg>\n",
              "    </button>\n",
              "    <script>\n",
              "      (() => {\n",
              "      const buttonEl =\n",
              "        document.querySelector('#id_cdd8b275-b8cd-4a64-b39a-f9e8680807d0 button.colab-df-generate');\n",
              "      buttonEl.style.display =\n",
              "        google.colab.kernel.accessAllowed ? 'block' : 'none';\n",
              "\n",
              "      buttonEl.onclick = () => {\n",
              "        google.colab.notebook.generateWithVariable('df');\n",
              "      }\n",
              "      })();\n",
              "    </script>\n",
              "  </div>\n",
              "\n",
              "    </div>\n",
              "  </div>\n"
            ],
            "application/vnd.google.colaboratory.intrinsic+json": {
              "type": "dataframe",
              "variable_name": "df",
              "summary": "{\n  \"name\": \"df\",\n  \"rows\": 104,\n  \"fields\": [\n    {\n      \"column\": \"Number\",\n      \"properties\": {\n        \"dtype\": \"number\",\n        \"std\": 30,\n        \"min\": 1,\n        \"max\": 104,\n        \"num_unique_values\": 104,\n        \"samples\": [\n          31,\n          66,\n          65\n        ],\n        \"semantic_type\": \"\",\n        \"description\": \"\"\n      }\n    },\n    {\n      \"column\": \"Sex\",\n      \"properties\": {\n        \"dtype\": \"category\",\n        \"num_unique_values\": 4,\n        \"samples\": [\n          \"F\",\n          \"M \",\n          \"M\"\n        ],\n        \"semantic_type\": \"\",\n        \"description\": \"\"\n      }\n    },\n    {\n      \"column\": \"%Red Pixel\",\n      \"properties\": {\n        \"dtype\": \"number\",\n        \"std\": 2.8162939069011497,\n        \"min\": 38.7968,\n        \"max\": 54.6478,\n        \"num_unique_values\": 103,\n        \"samples\": [\n          44.2572,\n          42.5892,\n          45.8483\n        ],\n        \"semantic_type\": \"\",\n        \"description\": \"\"\n      }\n    },\n    {\n      \"column\": \"%Green pixel\",\n      \"properties\": {\n        \"dtype\": \"number\",\n        \"std\": 1.5542751246668463,\n        \"min\": 25.1403,\n        \"max\": 32.3681,\n        \"num_unique_values\": 103,\n        \"samples\": [\n          29.6578,\n          31.5405,\n          27.2043\n        ],\n        \"semantic_type\": \"\",\n        \"description\": \"\"\n      }\n    },\n    {\n      \"column\": \"%Blue pixel\",\n      \"properties\": {\n        \"dtype\": \"number\",\n        \"std\": 1.9846714900084665,\n        \"min\": 19.5413,\n        \"max\": 29.8414,\n        \"num_unique_values\": 103,\n        \"samples\": [\n          26.085,\n          25.8703,\n          26.9474\n        ],\n        \"semantic_type\": \"\",\n        \"description\": \"\"\n      }\n    },\n    {\n      \"column\": \"Hb\",\n      \"properties\": {\n        \"dtype\": \"number\",\n        \"std\": 2.512956530220567,\n        \"min\": 2.8,\n        \"max\": 16.3,\n        \"num_unique_values\": 62,\n        \"samples\": [\n          11.1,\n          16.0,\n          6.3\n        ],\n        \"semantic_type\": \"\",\n        \"description\": \"\"\n      }\n    },\n    {\n      \"column\": \"Anaemic\",\n      \"properties\": {\n        \"dtype\": \"category\",\n        \"num_unique_values\": 2,\n        \"samples\": [\n          \"No\",\n          \"Yes\"\n        ],\n        \"semantic_type\": \"\",\n        \"description\": \"\"\n      }\n    }\n  ]\n}"
            }
          },
          "metadata": {},
          "execution_count": 2
        }
      ]
    },
    {
      "cell_type": "code",
      "metadata": {
        "id": "M52QDmyzhh9s",
        "colab": {
          "base_uri": "https://localhost:8080/"
        },
        "outputId": "8b01979c-d4db-4faf-f854-37fa2e8de472"
      },
      "source": [
        "X = np.array(df.iloc[:, 1:-1].values)\n",
        "y = np.array(df.iloc[:, -1].values)\n",
        "print(X)\n",
        "print(y)"
      ],
      "execution_count": 3,
      "outputs": [
        {
          "output_type": "stream",
          "name": "stdout",
          "text": [
            "[['M' 43.2555 30.8421 25.9025 6.3]\n",
            " ['F' 45.6033 28.19 26.2067 13.5]\n",
            " ['F ' 45.0107 28.9677 26.0215 11.7]\n",
            " ['F' 44.5398 28.9899 26.4703 13.5]\n",
            " ['M ' 43.287 30.6972 26.0158 12.4]\n",
            " ['M' 45.0994 27.9645 26.9361 16.2]\n",
            " ['F' 43.1457 30.1628 26.6915 8.6]\n",
            " ['F ' 43.6103 29.1099 27.2798 10.3]\n",
            " ['F' 45.0423 29.166 25.7918 13.0]\n",
            " ['F' 46.5143 27.4282 26.0575 9.7]\n",
            " ['F' 45.3506 29.1248 25.5246 12.6]\n",
            " ['F' 44.4062 28.9298 26.664 15.4]\n",
            " ['F' 44.9642 30.5279 24.5079 4.8]\n",
            " ['M ' 45.0484 31.1049 23.8467 9.0]\n",
            " ['M ' 46.9942 26.0496 26.9562 14.6]\n",
            " ['M' 45.5842 28.7311 25.6848 14.0]\n",
            " ['F' 42.5358 30.1604 27.3039 10.0]\n",
            " ['F' 44.0957 29.9973 25.907 8.3]\n",
            " ['F' 45.7104 27.5693 26.7204 13.6]\n",
            " ['F ' 40.9365 31.9687 27.0948 9.9]\n",
            " ['F' 44.9116 30.3761 24.7123 11.6]\n",
            " ['F ' 43.4225 29.7889 26.7886 12.4]\n",
            " ['F' 43.3019 29.8285 26.8697 12.1]\n",
            " ['F ' 47.6372 26.7953 25.5675 15.1]\n",
            " ['M' 45.6906 30.0735 24.2359 9.1]\n",
            " ['M ' 43.4098 31.2315 25.3586 12.9]\n",
            " ['F' 44.4252 28.7436 26.8312 14.7]\n",
            " ['M' 44.3297 28.7617 26.9086 14.1]\n",
            " ['M' 47.8913 27.0952 25.0135 14.6]\n",
            " ['M' 42.2473 30.2089 27.5438 13.7]\n",
            " ['M' 44.2572 29.6578 26.085 12.9]\n",
            " ['M ' 48.6358 26.6982 24.666 15.0]\n",
            " ['M' 42.1652 29.3907 28.4441 13.4]\n",
            " ['M' 45.4434 28.3301 26.2265 14.5]\n",
            " ['F ' 42.1528 30.432 27.4152 13.7]\n",
            " ['M ' 45.2588 28.0079 26.7333 12.6]\n",
            " ['F ' 46.4081 28.1641 25.4278 13.5]\n",
            " ['M' 47.2275 28.2526 24.5199 12.8]\n",
            " ['F' 47.3642 27.473 25.1628 11.8]\n",
            " ['M ' 46.1449 27.7085 26.1466 14.1]\n",
            " ['M ' 41.7122 30.1452 28.1426 10.9]\n",
            " ['M' 47.9777 26.7981 25.2242 16.3]\n",
            " ['M' 46.7628 28.018 25.2192 15.2]\n",
            " ['M ' 44.9526 28.4671 26.5803 13.1]\n",
            " ['M' 44.1868 28.9764 26.8368 14.1]\n",
            " ['M ' 46.9428 27.2219 25.8353 13.3]\n",
            " ['M' 48.8523 26.2003 24.9474 14.1]\n",
            " ['M' 45.7581 27.2867 26.9553 11.8]\n",
            " ['M ' 48.5356 26.4917 24.9727 15.6]\n",
            " ['M ' 45.5833 27.6916 26.7252 11.7]\n",
            " ['M' 45.9659 28.4015 25.6326 13.0]\n",
            " ['M' 44.0418 28.5164 27.4418 11.9]\n",
            " ['M' 43.9633 28.5978 27.439 13.4]\n",
            " ['F ' 47.1003 28.3195 24.5801 12.4]\n",
            " ['M ' 46.0477 28.6476 25.3047 14.4]\n",
            " ['M ' 46.2133 28.3358 25.4509 13.0]\n",
            " ['M' 49.1475 28.2711 22.5813 12.6]\n",
            " ['M ' 45.7986 27.7309 26.4706 13.0]\n",
            " ['M ' 40.6395 32.1891 27.1714 2.8]\n",
            " ['F ' 50.3562 29.2206 20.4232 11.9]\n",
            " ['F ' 43.9224 29.8338 26.2437 12.1]\n",
            " ['F ' 45.0693 29.8506 25.0801 10.0]\n",
            " ['F ' 45.8483 27.2043 26.9474 15.5]\n",
            " ['M ' 43.4837 30.7106 25.8057 10.5]\n",
            " ['F ' 38.7968 31.3618 29.8414 8.5]\n",
            " ['F ' 45.4201 29.4684 25.1115 12.0]\n",
            " ['M ' 44.1609 29.5993 26.2399 9.5]\n",
            " ['F ' 44.1609 29.5993 26.2399 12.5]\n",
            " ['F' 42.5892 31.5405 25.8703 9.0]\n",
            " ['F ' 46.9597 28.4993 24.541 8.4]\n",
            " ['F ' 44.1995 29.486 26.3145 11.2]\n",
            " ['M ' 41.133 32.3681 26.4989 10.0]\n",
            " ['F ' 52.9108 26.7881 20.301 11.5]\n",
            " ['M ' 50.4976 28.8065 20.696 11.1]\n",
            " ['M ' 44.72 28.0357 27.2443 14.0]\n",
            " ['M' 53.9113 26.3455 19.7433 14.5]\n",
            " ['F' 49.5899 28.9754 21.4347 9.9]\n",
            " ['F' 45.9707 30.9397 23.0896 8.7]\n",
            " ['F' 42.4532 30.9448 26.602 9.2]\n",
            " ['F ' 44.3346 30.4043 25.2611 8.0]\n",
            " ['F ' 43.8783 29.4752 26.6465 14.1]\n",
            " ['F' 42.8269 29.0594 28.1137 12.7]\n",
            " ['F' 43.1335 29.3459 27.5206 10.4]\n",
            " ['M' 45.4735 27.9181 26.6084 16.0]\n",
            " ['F' 50.4801 25.1403 24.3796 11.5]\n",
            " ['F' 46.255 27.2758 26.4692 11.0]\n",
            " ['M' 46.7979 28.1768 25.0253 14.0]\n",
            " ['M ' 46.5811 29.7082 23.7107 11.3]\n",
            " ['M ' 54.6478 25.8109 19.5413 15.2]\n",
            " ['M' 48.8763 29.4806 21.6431 12.5]\n",
            " ['F ' 46.3745 28.882 24.7435 10.7]\n",
            " ['M ' 43.1425 30.289 26.5686 9.5]\n",
            " ['M ' 49.5037 26.7716 23.7246 14.5]\n",
            " ['M ' 47.7549 26.2457 25.9994 15.2]\n",
            " ['F ' 42.5314 30.9742 26.4944 8.7]\n",
            " ['M' 52.154 26.0853 21.7607 16.0]\n",
            " ['F' 51.5802 28.2678 20.152 13.2]\n",
            " ['M' 48.3681 26.922 24.7099 12.5]\n",
            " ['M ' 47.326 27.278 25.396 13.0]\n",
            " ['F ' 49.9999 29.286 20.7141 14.5]\n",
            " ['M ' 42.2324 30.6757 27.0919 6.3]\n",
            " ['F' 45.6064 31.9084 22.4852 12.7]\n",
            " ['M ' 45.2095 29.2769 25.5136 13.4]\n",
            " ['F' 43.5706 29.8094 26.6199 12.2]]\n",
            "['Yes' 'No' 'No' 'No' 'No' 'No' 'Yes' 'No' 'No' 'Yes' 'No' 'No' 'Yes'\n",
            " 'Yes' 'No' 'No' 'Yes' 'Yes' 'No' 'Yes' 'No' 'No' 'No' 'No' 'Yes' 'No'\n",
            " 'No' 'No' 'No' 'No' 'No' 'No' 'No' 'No' 'No' 'No' 'No' 'No' 'No' 'No'\n",
            " 'No' 'No' 'No' 'No' 'No' 'No' 'No' 'No' 'No' 'No' 'No' 'No' 'No' 'No'\n",
            " 'No' 'No' 'No' 'No' 'Yes' 'No' 'No' 'Yes' 'No' 'Yes' 'Yes' 'No' 'Yes'\n",
            " 'No' 'Yes' 'Yes' 'No' 'Yes' 'No' 'No' 'No' 'No' 'Yes' 'Yes' 'Yes' 'Yes'\n",
            " 'No' 'No' 'Yes' 'No' 'No' 'No' 'No' 'No' 'No' 'No' 'No' 'Yes' 'No' 'No'\n",
            " 'Yes' 'No' 'No' 'No' 'No' 'Yes' 'Yes' 'No' 'No' 'No']\n"
          ]
        }
      ]
    },
    {
      "cell_type": "code",
      "source": [
        "x_gender = []\n",
        "for i in X[:, 0]:\n",
        "  x_gender.append(i.rstrip())\n",
        "X[:, 0] = x_gender"
      ],
      "metadata": {
        "id": "X1zU4okJmnz7"
      },
      "execution_count": 4,
      "outputs": []
    },
    {
      "cell_type": "code",
      "source": [
        "from sklearn.compose import ColumnTransformer\n",
        "from sklearn.preprocessing import OneHotEncoder\n",
        "ct = ColumnTransformer(transformers = [('encoder', OneHotEncoder(), [0])], remainder='passthrough')\n",
        "X = np.array(ct.fit_transform(X))\n",
        "print(X)"
      ],
      "metadata": {
        "id": "Xn76na834QfY",
        "colab": {
          "base_uri": "https://localhost:8080/"
        },
        "outputId": "ee142461-da37-425f-a852-9fa29f8e14aa"
      },
      "execution_count": 5,
      "outputs": [
        {
          "output_type": "stream",
          "name": "stdout",
          "text": [
            "[[0.0 1.0 43.2555 30.8421 25.9025 6.3]\n",
            " [1.0 0.0 45.6033 28.19 26.2067 13.5]\n",
            " [1.0 0.0 45.0107 28.9677 26.0215 11.7]\n",
            " [1.0 0.0 44.5398 28.9899 26.4703 13.5]\n",
            " [0.0 1.0 43.287 30.6972 26.0158 12.4]\n",
            " [0.0 1.0 45.0994 27.9645 26.9361 16.2]\n",
            " [1.0 0.0 43.1457 30.1628 26.6915 8.6]\n",
            " [1.0 0.0 43.6103 29.1099 27.2798 10.3]\n",
            " [1.0 0.0 45.0423 29.166 25.7918 13.0]\n",
            " [1.0 0.0 46.5143 27.4282 26.0575 9.7]\n",
            " [1.0 0.0 45.3506 29.1248 25.5246 12.6]\n",
            " [1.0 0.0 44.4062 28.9298 26.664 15.4]\n",
            " [1.0 0.0 44.9642 30.5279 24.5079 4.8]\n",
            " [0.0 1.0 45.0484 31.1049 23.8467 9.0]\n",
            " [0.0 1.0 46.9942 26.0496 26.9562 14.6]\n",
            " [0.0 1.0 45.5842 28.7311 25.6848 14.0]\n",
            " [1.0 0.0 42.5358 30.1604 27.3039 10.0]\n",
            " [1.0 0.0 44.0957 29.9973 25.907 8.3]\n",
            " [1.0 0.0 45.7104 27.5693 26.7204 13.6]\n",
            " [1.0 0.0 40.9365 31.9687 27.0948 9.9]\n",
            " [1.0 0.0 44.9116 30.3761 24.7123 11.6]\n",
            " [1.0 0.0 43.4225 29.7889 26.7886 12.4]\n",
            " [1.0 0.0 43.3019 29.8285 26.8697 12.1]\n",
            " [1.0 0.0 47.6372 26.7953 25.5675 15.1]\n",
            " [0.0 1.0 45.6906 30.0735 24.2359 9.1]\n",
            " [0.0 1.0 43.4098 31.2315 25.3586 12.9]\n",
            " [1.0 0.0 44.4252 28.7436 26.8312 14.7]\n",
            " [0.0 1.0 44.3297 28.7617 26.9086 14.1]\n",
            " [0.0 1.0 47.8913 27.0952 25.0135 14.6]\n",
            " [0.0 1.0 42.2473 30.2089 27.5438 13.7]\n",
            " [0.0 1.0 44.2572 29.6578 26.085 12.9]\n",
            " [0.0 1.0 48.6358 26.6982 24.666 15.0]\n",
            " [0.0 1.0 42.1652 29.3907 28.4441 13.4]\n",
            " [0.0 1.0 45.4434 28.3301 26.2265 14.5]\n",
            " [1.0 0.0 42.1528 30.432 27.4152 13.7]\n",
            " [0.0 1.0 45.2588 28.0079 26.7333 12.6]\n",
            " [1.0 0.0 46.4081 28.1641 25.4278 13.5]\n",
            " [0.0 1.0 47.2275 28.2526 24.5199 12.8]\n",
            " [1.0 0.0 47.3642 27.473 25.1628 11.8]\n",
            " [0.0 1.0 46.1449 27.7085 26.1466 14.1]\n",
            " [0.0 1.0 41.7122 30.1452 28.1426 10.9]\n",
            " [0.0 1.0 47.9777 26.7981 25.2242 16.3]\n",
            " [0.0 1.0 46.7628 28.018 25.2192 15.2]\n",
            " [0.0 1.0 44.9526 28.4671 26.5803 13.1]\n",
            " [0.0 1.0 44.1868 28.9764 26.8368 14.1]\n",
            " [0.0 1.0 46.9428 27.2219 25.8353 13.3]\n",
            " [0.0 1.0 48.8523 26.2003 24.9474 14.1]\n",
            " [0.0 1.0 45.7581 27.2867 26.9553 11.8]\n",
            " [0.0 1.0 48.5356 26.4917 24.9727 15.6]\n",
            " [0.0 1.0 45.5833 27.6916 26.7252 11.7]\n",
            " [0.0 1.0 45.9659 28.4015 25.6326 13.0]\n",
            " [0.0 1.0 44.0418 28.5164 27.4418 11.9]\n",
            " [0.0 1.0 43.9633 28.5978 27.439 13.4]\n",
            " [1.0 0.0 47.1003 28.3195 24.5801 12.4]\n",
            " [0.0 1.0 46.0477 28.6476 25.3047 14.4]\n",
            " [0.0 1.0 46.2133 28.3358 25.4509 13.0]\n",
            " [0.0 1.0 49.1475 28.2711 22.5813 12.6]\n",
            " [0.0 1.0 45.7986 27.7309 26.4706 13.0]\n",
            " [0.0 1.0 40.6395 32.1891 27.1714 2.8]\n",
            " [1.0 0.0 50.3562 29.2206 20.4232 11.9]\n",
            " [1.0 0.0 43.9224 29.8338 26.2437 12.1]\n",
            " [1.0 0.0 45.0693 29.8506 25.0801 10.0]\n",
            " [1.0 0.0 45.8483 27.2043 26.9474 15.5]\n",
            " [0.0 1.0 43.4837 30.7106 25.8057 10.5]\n",
            " [1.0 0.0 38.7968 31.3618 29.8414 8.5]\n",
            " [1.0 0.0 45.4201 29.4684 25.1115 12.0]\n",
            " [0.0 1.0 44.1609 29.5993 26.2399 9.5]\n",
            " [1.0 0.0 44.1609 29.5993 26.2399 12.5]\n",
            " [1.0 0.0 42.5892 31.5405 25.8703 9.0]\n",
            " [1.0 0.0 46.9597 28.4993 24.541 8.4]\n",
            " [1.0 0.0 44.1995 29.486 26.3145 11.2]\n",
            " [0.0 1.0 41.133 32.3681 26.4989 10.0]\n",
            " [1.0 0.0 52.9108 26.7881 20.301 11.5]\n",
            " [0.0 1.0 50.4976 28.8065 20.696 11.1]\n",
            " [0.0 1.0 44.72 28.0357 27.2443 14.0]\n",
            " [0.0 1.0 53.9113 26.3455 19.7433 14.5]\n",
            " [1.0 0.0 49.5899 28.9754 21.4347 9.9]\n",
            " [1.0 0.0 45.9707 30.9397 23.0896 8.7]\n",
            " [1.0 0.0 42.4532 30.9448 26.602 9.2]\n",
            " [1.0 0.0 44.3346 30.4043 25.2611 8.0]\n",
            " [1.0 0.0 43.8783 29.4752 26.6465 14.1]\n",
            " [1.0 0.0 42.8269 29.0594 28.1137 12.7]\n",
            " [1.0 0.0 43.1335 29.3459 27.5206 10.4]\n",
            " [0.0 1.0 45.4735 27.9181 26.6084 16.0]\n",
            " [1.0 0.0 50.4801 25.1403 24.3796 11.5]\n",
            " [1.0 0.0 46.255 27.2758 26.4692 11.0]\n",
            " [0.0 1.0 46.7979 28.1768 25.0253 14.0]\n",
            " [0.0 1.0 46.5811 29.7082 23.7107 11.3]\n",
            " [0.0 1.0 54.6478 25.8109 19.5413 15.2]\n",
            " [0.0 1.0 48.8763 29.4806 21.6431 12.5]\n",
            " [1.0 0.0 46.3745 28.882 24.7435 10.7]\n",
            " [0.0 1.0 43.1425 30.289 26.5686 9.5]\n",
            " [0.0 1.0 49.5037 26.7716 23.7246 14.5]\n",
            " [0.0 1.0 47.7549 26.2457 25.9994 15.2]\n",
            " [1.0 0.0 42.5314 30.9742 26.4944 8.7]\n",
            " [0.0 1.0 52.154 26.0853 21.7607 16.0]\n",
            " [1.0 0.0 51.5802 28.2678 20.152 13.2]\n",
            " [0.0 1.0 48.3681 26.922 24.7099 12.5]\n",
            " [0.0 1.0 47.326 27.278 25.396 13.0]\n",
            " [1.0 0.0 49.9999 29.286 20.7141 14.5]\n",
            " [0.0 1.0 42.2324 30.6757 27.0919 6.3]\n",
            " [1.0 0.0 45.6064 31.9084 22.4852 12.7]\n",
            " [0.0 1.0 45.2095 29.2769 25.5136 13.4]\n",
            " [1.0 0.0 43.5706 29.8094 26.6199 12.2]]\n"
          ]
        }
      ]
    },
    {
      "cell_type": "code",
      "source": [
        "from sklearn import preprocessing\n",
        "le = preprocessing.LabelEncoder()\n",
        "y = le.fit_transform(y)\n",
        "print(y)"
      ],
      "metadata": {
        "id": "1P2FjwED_6Zj",
        "colab": {
          "base_uri": "https://localhost:8080/"
        },
        "outputId": "3fe7fa20-50b8-4fcc-d37b-f7d451a5b027"
      },
      "execution_count": 6,
      "outputs": [
        {
          "output_type": "stream",
          "name": "stdout",
          "text": [
            "[1 0 0 0 0 0 1 0 0 1 0 0 1 1 0 0 1 1 0 1 0 0 0 0 1 0 0 0 0 0 0 0 0 0 0 0 0\n",
            " 0 0 0 0 0 0 0 0 0 0 0 0 0 0 0 0 0 0 0 0 0 1 0 0 1 0 1 1 0 1 0 1 1 0 1 0 0\n",
            " 0 0 1 1 1 1 0 0 1 0 0 0 0 0 0 0 0 1 0 0 1 0 0 0 0 1 1 0 0 0]\n"
          ]
        }
      ]
    },
    {
      "cell_type": "markdown",
      "source": [
        "### ***SPLITTING***"
      ],
      "metadata": {
        "id": "nXOM5MdPKJ_K"
      }
    },
    {
      "cell_type": "code",
      "source": [
        "from sklearn.model_selection import train_test_split\n",
        "X_train, X_test, y_train, y_test = train_test_split(X, y, test_size = 0.225, random_state = 1)\n",
        "print(X_train)"
      ],
      "metadata": {
        "id": "S_SPBVEWGnZM",
        "colab": {
          "base_uri": "https://localhost:8080/"
        },
        "outputId": "3813e384-87f6-49e0-f3eb-b3dd0eb26b33"
      },
      "execution_count": 7,
      "outputs": [
        {
          "output_type": "stream",
          "name": "stdout",
          "text": [
            "[[0.0 1.0 46.7628 28.018 25.2192 15.2]\n",
            " [0.0 1.0 41.7122 30.1452 28.1426 10.9]\n",
            " [0.0 1.0 45.4735 27.9181 26.6084 16.0]\n",
            " [0.0 1.0 46.7979 28.1768 25.0253 14.0]\n",
            " [0.0 1.0 48.5356 26.4917 24.9727 15.6]\n",
            " [1.0 0.0 46.4081 28.1641 25.4278 13.5]\n",
            " [1.0 0.0 45.3506 29.1248 25.5246 12.6]\n",
            " [1.0 0.0 45.0107 28.9677 26.0215 11.7]\n",
            " [0.0 1.0 42.1652 29.3907 28.4441 13.4]\n",
            " [1.0 0.0 46.9597 28.4993 24.541 8.4]\n",
            " [1.0 0.0 40.9365 31.9687 27.0948 9.9]\n",
            " [0.0 1.0 44.3297 28.7617 26.9086 14.1]\n",
            " [1.0 0.0 45.8483 27.2043 26.9474 15.5]\n",
            " [1.0 0.0 49.9999 29.286 20.7141 14.5]\n",
            " [1.0 0.0 42.4532 30.9448 26.602 9.2]\n",
            " [0.0 1.0 44.72 28.0357 27.2443 14.0]\n",
            " [0.0 1.0 46.0477 28.6476 25.3047 14.4]\n",
            " [0.0 1.0 46.2133 28.3358 25.4509 13.0]\n",
            " [1.0 0.0 45.9707 30.9397 23.0896 8.7]\n",
            " [1.0 0.0 47.6372 26.7953 25.5675 15.1]\n",
            " [1.0 0.0 42.1528 30.432 27.4152 13.7]\n",
            " [1.0 0.0 46.3745 28.882 24.7435 10.7]\n",
            " [1.0 0.0 44.1995 29.486 26.3145 11.2]\n",
            " [0.0 1.0 49.5037 26.7716 23.7246 14.5]\n",
            " [0.0 1.0 45.5842 28.7311 25.6848 14.0]\n",
            " [0.0 1.0 46.5811 29.7082 23.7107 11.3]\n",
            " [0.0 1.0 47.9777 26.7981 25.2242 16.3]\n",
            " [0.0 1.0 44.0418 28.5164 27.4418 11.9]\n",
            " [0.0 1.0 46.9428 27.2219 25.8353 13.3]\n",
            " [0.0 1.0 52.154 26.0853 21.7607 16.0]\n",
            " [0.0 1.0 43.9633 28.5978 27.439 13.4]\n",
            " [1.0 0.0 44.4252 28.7436 26.8312 14.7]\n",
            " [0.0 1.0 45.2095 29.2769 25.5136 13.4]\n",
            " [0.0 1.0 44.9526 28.4671 26.5803 13.1]\n",
            " [0.0 1.0 47.7549 26.2457 25.9994 15.2]\n",
            " [0.0 1.0 45.6906 30.0735 24.2359 9.1]\n",
            " [0.0 1.0 43.287 30.6972 26.0158 12.4]\n",
            " [1.0 0.0 45.4201 29.4684 25.1115 12.0]\n",
            " [0.0 1.0 50.4976 28.8065 20.696 11.1]\n",
            " [0.0 1.0 45.5833 27.6916 26.7252 11.7]\n",
            " [1.0 0.0 43.4225 29.7889 26.7886 12.4]\n",
            " [1.0 0.0 44.5398 28.9899 26.4703 13.5]\n",
            " [0.0 1.0 44.2572 29.6578 26.085 12.9]\n",
            " [0.0 1.0 45.7581 27.2867 26.9553 11.8]\n",
            " [0.0 1.0 48.3681 26.922 24.7099 12.5]\n",
            " [1.0 0.0 45.0423 29.166 25.7918 13.0]\n",
            " [1.0 0.0 43.9224 29.8338 26.2437 12.1]\n",
            " [0.0 1.0 43.2555 30.8421 25.9025 6.3]\n",
            " [1.0 0.0 42.5314 30.9742 26.4944 8.7]\n",
            " [0.0 1.0 45.7986 27.7309 26.4706 13.0]\n",
            " [1.0 0.0 43.3019 29.8285 26.8697 12.1]\n",
            " [1.0 0.0 45.0693 29.8506 25.0801 10.0]\n",
            " [0.0 1.0 43.4837 30.7106 25.8057 10.5]\n",
            " [1.0 0.0 43.6103 29.1099 27.2798 10.3]\n",
            " [0.0 1.0 42.2324 30.6757 27.0919 6.3]\n",
            " [0.0 1.0 45.0484 31.1049 23.8467 9.0]\n",
            " [1.0 0.0 42.5892 31.5405 25.8703 9.0]\n",
            " [0.0 1.0 48.8763 29.4806 21.6431 12.5]\n",
            " [0.0 1.0 46.9942 26.0496 26.9562 14.6]\n",
            " [0.0 1.0 42.2473 30.2089 27.5438 13.7]\n",
            " [0.0 1.0 47.8913 27.0952 25.0135 14.6]\n",
            " [1.0 0.0 44.4062 28.9298 26.664 15.4]\n",
            " [1.0 0.0 50.4801 25.1403 24.3796 11.5]\n",
            " [1.0 0.0 45.7104 27.5693 26.7204 13.6]\n",
            " [1.0 0.0 44.9116 30.3761 24.7123 11.6]\n",
            " [0.0 1.0 45.9659 28.4015 25.6326 13.0]\n",
            " [0.0 1.0 43.4098 31.2315 25.3586 12.9]\n",
            " [1.0 0.0 43.1457 30.1628 26.6915 8.6]\n",
            " [0.0 1.0 41.133 32.3681 26.4989 10.0]\n",
            " [1.0 0.0 49.5899 28.9754 21.4347 9.9]\n",
            " [1.0 0.0 45.6033 28.19 26.2067 13.5]\n",
            " [1.0 0.0 42.5358 30.1604 27.3039 10.0]\n",
            " [1.0 0.0 38.7968 31.3618 29.8414 8.5]\n",
            " [1.0 0.0 44.3346 30.4043 25.2611 8.0]\n",
            " [0.0 1.0 45.0994 27.9645 26.9361 16.2]\n",
            " [0.0 1.0 53.9113 26.3455 19.7433 14.5]\n",
            " [1.0 0.0 46.5143 27.4282 26.0575 9.7]\n",
            " [1.0 0.0 52.9108 26.7881 20.301 11.5]\n",
            " [1.0 0.0 44.9642 30.5279 24.5079 4.8]\n",
            " [0.0 1.0 47.2275 28.2526 24.5199 12.8]]\n"
          ]
        }
      ]
    },
    {
      "cell_type": "code",
      "source": [
        "print(X_test)"
      ],
      "metadata": {
        "id": "awMV4qWqJ-OL",
        "colab": {
          "base_uri": "https://localhost:8080/"
        },
        "outputId": "81206bd7-e5e6-4534-cff9-d9ec51f8ad3d"
      },
      "execution_count": 8,
      "outputs": [
        {
          "output_type": "stream",
          "name": "stdout",
          "text": [
            "[[1.0 0.0 51.5802 28.2678 20.152 13.2]\n",
            " [0.0 1.0 45.2588 28.0079 26.7333 12.6]\n",
            " [1.0 0.0 42.8269 29.0594 28.1137 12.7]\n",
            " [1.0 0.0 50.3562 29.2206 20.4232 11.9]\n",
            " [1.0 0.0 47.3642 27.473 25.1628 11.8]\n",
            " [0.0 1.0 46.1449 27.7085 26.1466 14.1]\n",
            " [1.0 0.0 47.1003 28.3195 24.5801 12.4]\n",
            " [1.0 0.0 46.255 27.2758 26.4692 11.0]\n",
            " [0.0 1.0 48.6358 26.6982 24.666 15.0]\n",
            " [0.0 1.0 49.1475 28.2711 22.5813 12.6]\n",
            " [0.0 1.0 47.326 27.278 25.396 13.0]\n",
            " [0.0 1.0 48.8523 26.2003 24.9474 14.1]\n",
            " [0.0 1.0 43.1425 30.289 26.5686 9.5]\n",
            " [0.0 1.0 40.6395 32.1891 27.1714 2.8]\n",
            " [0.0 1.0 45.4434 28.3301 26.2265 14.5]\n",
            " [0.0 1.0 54.6478 25.8109 19.5413 15.2]\n",
            " [1.0 0.0 43.5706 29.8094 26.6199 12.2]\n",
            " [1.0 0.0 43.8783 29.4752 26.6465 14.1]\n",
            " [1.0 0.0 44.0957 29.9973 25.907 8.3]\n",
            " [1.0 0.0 45.6064 31.9084 22.4852 12.7]\n",
            " [1.0 0.0 44.1609 29.5993 26.2399 12.5]\n",
            " [1.0 0.0 43.1335 29.3459 27.5206 10.4]\n",
            " [0.0 1.0 44.1609 29.5993 26.2399 9.5]\n",
            " [0.0 1.0 44.1868 28.9764 26.8368 14.1]]\n"
          ]
        }
      ]
    },
    {
      "cell_type": "markdown",
      "source": [
        "### ***FEATURE SCALING***"
      ],
      "metadata": {
        "id": "rvI9xU4QKiEx"
      }
    },
    {
      "cell_type": "code",
      "source": [
        "from sklearn.preprocessing import StandardScaler\n",
        "sc = StandardScaler()\n",
        "X_train[:,2:] = sc.fit_transform(X_train[:,2:])\n",
        "X_test[:,2:] = sc.transform(X_test[:,2:])"
      ],
      "metadata": {
        "id": "3JsDV0qtKfQK"
      },
      "execution_count": 9,
      "outputs": []
    },
    {
      "cell_type": "code",
      "source": [
        "print(X_train)"
      ],
      "metadata": {
        "id": "QLxgJhJnMQg7",
        "colab": {
          "base_uri": "https://localhost:8080/"
        },
        "outputId": "aebad0a7-2191-448d-b2c4-a360c8cb89f2"
      },
      "execution_count": 10,
      "outputs": [
        {
          "output_type": "stream",
          "name": "stdout",
          "text": [
            "[[0.0 1.0 0.46867962148347736 -0.5869720532267334 -0.1898024153111469\n",
            "  1.22684988575816]\n",
            " [0.0 1.0 -1.4155109267837125 0.7907574274919627 1.3953886195802319\n",
            "  -0.5135062408431057]\n",
            " [0.0 1.0 -0.012310136937479533 -0.6516745612766582 0.5634805379867599\n",
            "  1.550637072102582]\n",
            " [0.0 1.0 0.4817741227792003 -0.4841216200102384 -0.2949431903215584\n",
            "  0.7411691062415279]\n",
            " [0.0 1.0 1.130045202596233 -1.5755149765160086 -0.3234651334136051\n",
            "  1.388743478930371]\n",
            " [1.0 0.0 0.33635427648082916 -0.49234706397654426 -0.07669067901835684\n",
            "  0.5388021147762644]\n",
            " [1.0 0.0 -0.05815954460825931 0.12987215007312256 -0.024201627852767946\n",
            "  0.17454153013878992]\n",
            " [1.0 0.0 -0.18496356142923476 0.028122760537156472 0.24523855318216603\n",
            "  -0.18971905449868454]\n",
            " [0.0 1.0 -1.2465135168987425 0.3020883351629587 1.5588746622085914\n",
            "  0.4983287164832118]\n",
            " [1.0 0.0 0.5421356700626182 -0.2752471570863093 -0.5575511188287405\n",
            "  -1.5253411981694232]\n",
            " [1.0 0.0 -1.7048956747920405 1.971788693047878 0.8272271752485667\n",
            "  -0.9182402237736327]\n",
            " [0.0 1.0 -0.439019270329158 -0.1052978266328562 0.7262616656717815\n",
            "  0.7816425045345804]\n",
            " [1.0 0.0 0.12751376863622343 -1.1139833725482853 0.7473006655191452\n",
            "  1.3482700806373185]\n",
            " [1.0 0.0 1.6763209361383147 0.23427699789742454 -2.6326580393410954\n",
            "  0.9435360977067914]\n",
            " [1.0 0.0 -1.1390714549851166 1.308636560992655 0.5600101874964734\n",
            "  -1.201554011825002]\n",
            " [0.0 1.0 -0.29341289267329973 -0.5755082454941658 0.908292393732613\n",
            "  0.7411691062415279]\n",
            " [0.0 1.0 0.2019024740028081 -0.17919728777896568 -0.14344070172997006\n",
            "  0.9030626994137388]\n",
            " [0.0 1.0 0.26368165960314127 -0.38114165224309315 -0.06416488271747774\n",
            "  0.33643512331100084]\n",
            " [1.0 0.0 0.1731766449495134 1.3053334299510657 -1.3445615409541238\n",
            "  -1.4039210032902656]\n",
            " [1.0 0.0 0.7948856594601207 -1.378881528628553 -0.0009394347225636211\n",
            "  1.1863764874651075]\n",
            " [1.0 0.0 -1.2511394945644678 0.9765099731247765 1.0009615966685559\n",
            "  0.6197489113623695]\n",
            " [1.0 0.0 0.32381936925757304 -0.027382794416581435 -0.44774706034700523\n",
            "  -0.5944530374292115]\n",
            " [1.0 0.0 -0.48759203581927646 0.36381154854792214 0.4041155365656143\n",
            "  -0.392086045963948]\n",
            " [0.0 1.0 1.4912072169663015 -1.3942313728806381 -1.0002377032459684\n",
            "  0.9435360977067914]\n",
            " [0.0 1.0 0.02898790561057033 -0.1251166128823822 0.06266558285722668\n",
            "  0.7411691062415279]\n",
            " [0.0 1.0 0.400894126172 0.507724434320626 -1.00777487071706\n",
            "  -0.3516126476708948]\n",
            " [0.0 1.0 0.9219135139100824 -1.3770680449194457 -0.18709120399061074\n",
            "  1.6720572669817402]\n",
            " [0.0 1.0 -0.5464240259712848 -0.26417195300569224 1.015385240893812\n",
            "  -0.1087722579125787]\n",
            " [0.0 1.0 0.5358309101794925 -1.1025843320910402 0.14427304360538087\n",
            "  0.45785531819015923]\n",
            " [0.0 1.0 2.4799353304721303 -1.8387291834378217 -2.0651472857263595\n",
            "  1.550637072102582]\n",
            " [0.0 1.0 -0.5757094490970489 -0.21145139089094045 1.0138669625543113\n",
            "  0.4983287164832118]\n",
            " [1.0 0.0 -0.4033917810487744 -0.11702070346672656 0.6842921144298735\n",
            "  1.0244828942928965]\n",
            " [0.0 1.0 -0.11079869369163627 0.2283831758428268 -0.030166292757948195\n",
            "  0.4983287164832118]\n",
            " [0.0 1.0 -0.20663850516944973 -0.2961022197410415 0.5482435303653447\n",
            "  0.3769085216040534]\n",
            " [0.0 1.0 0.8387951410130148 -1.7348424738161226 0.23325499914539494\n",
            "  1.22684988575816]\n",
            " [0.0 1.0 0.06868177848421515 0.7443192910837592 -0.7229892336078877\n",
            "  -1.2420274101180546]\n",
            " [0.0 1.0 -0.8280117632365764 1.148272787287337 0.24214777227675374\n",
            "  0.0935947335526848]\n",
            " [1.0 0.0 -0.032231685917298664 0.35241250809067726 -0.24820190715550736\n",
            "  -0.06829885961952614]\n",
            " [0.0 1.0 1.8619942493827975 -0.07628208728714553 -2.6424726243214365\n",
            "  -0.4325594442570006]\n",
            " [0.0 1.0 0.028652149167089715 -0.7983724398883459 0.6268144344344972\n",
            "  -0.18971905449868454]\n",
            " [1.0 0.0 -0.7774617653570759 0.5599916255081021 0.661192593978901\n",
            "  0.0935947335526848]\n",
            " [1.0 0.0 -0.36063879391231024 0.04250109565936046 0.48859688131353834\n",
            "  0.5388021147762644]\n",
            " [0.0 1.0 -0.466066317165055 0.47508172755670064 0.2796709369529824\n",
            "  0.2959617250179483]\n",
            " [0.0 1.0 0.09386351174521916 -1.0606151376802802 0.7515843794055947\n",
            "  -0.14924565620563127]\n",
            " [0.0 1.0 1.0675571978374396 -1.2968213907914627 -0.46596640042101156\n",
            "  0.13406813184573735]\n",
            " [1.0 0.0 -0.17317477963593528 0.1565562675071251 0.12068550511671097\n",
            "  0.33643512331100084]\n",
            " [1.0 0.0 -0.5909677141396411 0.5890721321291379 0.365724784266816\n",
            "  -0.027825461326473587]\n",
            " [0.0 1.0 -0.8397632387583794 1.2421205692336226 0.1807117237533935\n",
            "  -2.3752825623235303]\n",
            " [1.0 0.0 -1.1098979506738496 1.3276781399382773 0.5016649198785236\n",
            "  -1.4039210032902656]\n",
            " [0.0 1.0 0.10897255170182316 -0.7729189006855249 0.48875955399277016\n",
            "  0.33643512331100084]\n",
            " [1.0 0.0 -0.8224531287834046 0.5856394665368985 0.7051684415980073\n",
            "  -0.027825461326473587]\n",
            " [1.0 0.0 -0.16310208633153261 0.5999530343837797 -0.2652283142484765\n",
            "  -0.8777668254805802]\n",
            " [0.0 1.0 -0.7546303272004309 1.1569516021809207 0.1282226725878046\n",
            "  -0.6753998340153167]\n",
            " [1.0 0.0 -0.7074005874842323 0.12022182604965992 0.9275419941084246\n",
            "  -0.7563466306014218]\n",
            " [0.0 1.0 -1.2214437024522302 1.1343478230924087 0.8256546726826552\n",
            "  -2.3752825623235303]\n",
            " [0.0 1.0 -0.170899097074569 1.4123289687883784 -0.9340299227984631\n",
            "  -1.2825008084111071]\n",
            " [1.0 0.0 -1.088334925748129 1.6944552201051637 0.1632515228491376\n",
            "  -1.2825008084111071]\n",
            " [0.0 1.0 1.25714766958919 0.3603141156803576 -2.128914975985382\n",
            "  0.13406813184573735]\n",
            " [0.0 1.0 0.5550063337293549 -1.8618511007289344 0.7520723974432901\n",
            "  0.9840094959998439]\n",
            " [0.0 1.0 -1.2158850679990585 0.8320141818741468 1.0706939518327603\n",
            "  0.6197489113623695]\n",
            " [0.0 1.0 0.8896808953359959 -1.1846444699281329 -0.30134164903802546\n",
            "  0.9840094959998439]\n",
            " [1.0 0.0 -0.4104799726333531 0.003575963188886776 0.5936292078711287\n",
            "  1.307796682344266]\n",
            " [1.0 0.0 1.8554656518706856 -2.450779935261425 -0.6450690202556644\n",
            "  -0.27066585108478963]\n",
            " [1.0 0.0 0.07606842024077551 -0.8775828176111273 0.6242116715667823\n",
            "  0.5792755130693169]\n",
            " [1.0 0.0 -0.2219340764835409 0.9403050662179638 -0.46466501898715507\n",
            "  -0.23019245279173708]\n",
            " [0.0 1.0 0.17138594391761852 -0.3385895523544048 0.034360536670824345\n",
            "  0.33643512331100084]\n",
            " [0.0 1.0 -0.7821996618372956 1.4943243393501435 -0.11421384369458548\n",
            "  0.2959617250179483]\n",
            " [1.0 0.0 -0.8807255248629487 0.8021564679492075 0.6085408701340803\n",
            "  -1.444394401583318]\n",
            " [0.0 1.0 -1.6315888512988905 2.2304691906969225 0.5041050100670066\n",
            "  -0.8777668254805802]\n",
            " [1.0 0.0 1.5233652229973924 0.033109840737200524 -2.2419182638253505\n",
            "  -0.9182402237736327]\n",
            " [1.0 0.0 0.036113403466645475 -0.4755723396673048 0.3456618204948452\n",
            "  0.5388021147762644]\n",
            " [1.0 0.0 -1.1082564747279455 0.8006020533414006 0.9406100326734098\n",
            "  -0.8777668254805802]\n",
            " [1.0 0.0 -2.5031379660301742 1.578716099098942 2.316549777845769\n",
            "  -1.4848677998763706]\n",
            " [1.0 0.0 -0.4371912630257668 0.958569437859683 -0.16708246444505054\n",
            "  -1.6872347913416341]\n",
            " [0.0 1.0 -0.15187289861069728 -0.6216225455257415 0.7411733279347331\n",
            "  1.631583868688687]\n",
            " [0.0 1.0 3.1355184395027256 -1.6702047330415228 -3.159066829336493\n",
            "  0.9435360977067914]\n",
            " [1.0 0.0 0.37597353681147855 -0.9689694430950524 0.2647592746900308\n",
            "  -0.9991870203597386]\n",
            " [1.0 0.0 2.762269193167376 -1.3835447724519716 -2.856658318643835\n",
            "  -0.27066585108478963]\n",
            " [1.0 0.0 -0.202310977675706 1.0386217901616905 -0.5754993377706938\n",
            "  -2.9823835367193205]\n",
            " [0.0 1.0 0.6420418651336902 -0.435028025313699 -0.5689924306014056\n",
            "  0.25548832672489574]]\n"
          ]
        }
      ]
    },
    {
      "cell_type": "code",
      "source": [
        "print(X_test)"
      ],
      "metadata": {
        "id": "K5HG7VfQMQjp",
        "colab": {
          "base_uri": "https://localhost:8080/"
        },
        "outputId": "5f49b6d0-e66a-49f9-ae8a-5b25d1635505"
      },
      "execution_count": 11,
      "outputs": [
        {
          "output_type": "stream",
          "name": "stdout",
          "text": [
            "[[1.0 0.0 2.265871944617831 -0.4251833994642611 -2.937452415995826\n",
            "  0.417381919897106]\n",
            " [0.0 1.0 -0.09240670184322679 -0.5935135480345844 0.631206596773766\n",
            "  0.17454153013878992]\n",
            " [1.0 0.0 -0.9996579183978898 0.08751435201040947 1.3797178181475298\n",
            "  0.21501492843184247]\n",
            " [1.0 0.0 1.8092431814849288 0.19191919983471145 -2.790396313969917\n",
            "  -0.1087722579125787]\n",
            " [1.0 0.0 0.693039538271163 -0.9399537037493417 -0.22038487900680048\n",
            "  -0.14924565620563127]\n",
            " [0.0 1.0 0.23816416989865666 -0.787426770358379 0.3130730604219933\n",
            "  0.7816425045345804]\n",
            " [1.0 0.0 0.5945882877885054 -0.3916987181211072 -0.5363494463021431\n",
            "  0.0935947335526848]\n",
            " [1.0 0.0 0.27923837481772035 -1.067674770690732 0.48800041482301976\n",
            "  -0.4730328425500532]\n",
            " [0.0 1.0 1.1674260866370152 -1.4417705529693705 -0.4897708358153239\n",
            "  1.145903089172055]\n",
            " [0.0 1.0 1.3583222778911865 -0.4230460793785283 -1.6201832837998824\n",
            "  0.17454153013878992]\n",
            " [0.0 1.0 0.6787885425590101 -1.0662498906335776 -0.09393398301697031\n",
            "  0.33643512331100084]\n",
            " [0.0 1.0 1.248194164429721 -1.7642468168137861 -0.3371838626955214\n",
            "  0.7816425045345804]\n",
            " [0.0 1.0 -0.8819193255508778 0.8838927694096723 0.5418992958752883\n",
            "  -1.0801338169458437]\n",
            " [0.0 1.0 -1.8156953011404673 2.11453576786473 0.868762932679188\n",
            "  -3.7918515025803745]\n",
            " [0.0 1.0 -0.02353932465831485 -0.38483338693663066 0.3563982173241704\n",
            "  0.9435360977067914]\n",
            " [0.0 1.0 3.410279129083921 -2.0164505869303047 -3.2685997666861755\n",
            "  1.22684988575816]\n",
            " [1.0 0.0 -0.7222111772688546 0.5732689169497771 0.5697163240239952\n",
            "  0.01264793696657897]\n",
            " [1.0 0.0 -0.6074197798701649 0.35681668281279544 0.5841399682492494\n",
            "  0.7816425045345804]\n",
            " [1.0 0.0 -0.5263159456339784 0.6949666272859194 0.1831518139418766\n",
            "  -1.565814596462476]\n",
            " [1.0 0.0 0.03726989788307813 1.932734026026754 -1.672292765380597\n",
            "  0.21501492843184247]\n",
            " [1.0 0.0 -0.5019922566174229 0.4371928714914285 0.36366426366320714\n",
            "  0.13406813184573735]\n",
            " [1.0 0.0 -0.8852768899856787 0.273072595817248 1.0581139313054706\n",
            "  -0.7158732323083692]\n",
            " [0.0 1.0 -0.5019922566174229 0.4371928714914285 0.36366426366320714\n",
            "  -1.0801338169458437]\n",
            " [0.0 1.0 -0.49232993229949623 0.033757513490453805 0.6873286711088752\n",
            "  0.7816425045345804]]\n"
          ]
        }
      ]
    },
    {
      "cell_type": "markdown",
      "source": [
        "# ***CLASSIFICATION MODELS***"
      ],
      "metadata": {
        "id": "W7Pw0nDUM6dC"
      }
    },
    {
      "cell_type": "markdown",
      "source": [
        "### ***LOGISTIC REGRRESSION***\n"
      ],
      "metadata": {
        "id": "JPx6ssW5QKNY"
      }
    },
    {
      "cell_type": "code",
      "source": [
        "from sklearn.linear_model import LogisticRegression\n",
        "lr = LogisticRegression()\n",
        "lr.fit(X_train,y_train)"
      ],
      "metadata": {
        "id": "wVBLsoDRO0va",
        "colab": {
          "base_uri": "https://localhost:8080/",
          "height": 72
        },
        "outputId": "bb57a518-015c-48bc-baf6-fbb82ba024bc"
      },
      "execution_count": 12,
      "outputs": [
        {
          "output_type": "execute_result",
          "data": {
            "text/plain": [
              "LogisticRegression()"
            ],
            "text/html": [
              "<style>#sk-container-id-1 {color: black;}#sk-container-id-1 pre{padding: 0;}#sk-container-id-1 div.sk-toggleable {background-color: white;}#sk-container-id-1 label.sk-toggleable__label {cursor: pointer;display: block;width: 100%;margin-bottom: 0;padding: 0.3em;box-sizing: border-box;text-align: center;}#sk-container-id-1 label.sk-toggleable__label-arrow:before {content: \"▸\";float: left;margin-right: 0.25em;color: #696969;}#sk-container-id-1 label.sk-toggleable__label-arrow:hover:before {color: black;}#sk-container-id-1 div.sk-estimator:hover label.sk-toggleable__label-arrow:before {color: black;}#sk-container-id-1 div.sk-toggleable__content {max-height: 0;max-width: 0;overflow: hidden;text-align: left;background-color: #f0f8ff;}#sk-container-id-1 div.sk-toggleable__content pre {margin: 0.2em;color: black;border-radius: 0.25em;background-color: #f0f8ff;}#sk-container-id-1 input.sk-toggleable__control:checked~div.sk-toggleable__content {max-height: 200px;max-width: 100%;overflow: auto;}#sk-container-id-1 input.sk-toggleable__control:checked~label.sk-toggleable__label-arrow:before {content: \"▾\";}#sk-container-id-1 div.sk-estimator input.sk-toggleable__control:checked~label.sk-toggleable__label {background-color: #d4ebff;}#sk-container-id-1 div.sk-label input.sk-toggleable__control:checked~label.sk-toggleable__label {background-color: #d4ebff;}#sk-container-id-1 input.sk-hidden--visually {border: 0;clip: rect(1px 1px 1px 1px);clip: rect(1px, 1px, 1px, 1px);height: 1px;margin: -1px;overflow: hidden;padding: 0;position: absolute;width: 1px;}#sk-container-id-1 div.sk-estimator {font-family: monospace;background-color: #f0f8ff;border: 1px dotted black;border-radius: 0.25em;box-sizing: border-box;margin-bottom: 0.5em;}#sk-container-id-1 div.sk-estimator:hover {background-color: #d4ebff;}#sk-container-id-1 div.sk-parallel-item::after {content: \"\";width: 100%;border-bottom: 1px solid gray;flex-grow: 1;}#sk-container-id-1 div.sk-label:hover label.sk-toggleable__label {background-color: #d4ebff;}#sk-container-id-1 div.sk-serial::before {content: \"\";position: absolute;border-left: 1px solid gray;box-sizing: border-box;top: 0;bottom: 0;left: 50%;z-index: 0;}#sk-container-id-1 div.sk-serial {display: flex;flex-direction: column;align-items: center;background-color: white;padding-right: 0.2em;padding-left: 0.2em;position: relative;}#sk-container-id-1 div.sk-item {position: relative;z-index: 1;}#sk-container-id-1 div.sk-parallel {display: flex;align-items: stretch;justify-content: center;background-color: white;position: relative;}#sk-container-id-1 div.sk-item::before, #sk-container-id-1 div.sk-parallel-item::before {content: \"\";position: absolute;border-left: 1px solid gray;box-sizing: border-box;top: 0;bottom: 0;left: 50%;z-index: -1;}#sk-container-id-1 div.sk-parallel-item {display: flex;flex-direction: column;z-index: 1;position: relative;background-color: white;}#sk-container-id-1 div.sk-parallel-item:first-child::after {align-self: flex-end;width: 50%;}#sk-container-id-1 div.sk-parallel-item:last-child::after {align-self: flex-start;width: 50%;}#sk-container-id-1 div.sk-parallel-item:only-child::after {width: 0;}#sk-container-id-1 div.sk-dashed-wrapped {border: 1px dashed gray;margin: 0 0.4em 0.5em 0.4em;box-sizing: border-box;padding-bottom: 0.4em;background-color: white;}#sk-container-id-1 div.sk-label label {font-family: monospace;font-weight: bold;display: inline-block;line-height: 1.2em;}#sk-container-id-1 div.sk-label-container {text-align: center;}#sk-container-id-1 div.sk-container {/* jupyter's `normalize.less` sets `[hidden] { display: none; }` but bootstrap.min.css set `[hidden] { display: none !important; }` so we also need the `!important` here to be able to override the default hidden behavior on the sphinx rendered scikit-learn.org. See: https://github.com/scikit-learn/scikit-learn/issues/21755 */display: inline-block !important;position: relative;}#sk-container-id-1 div.sk-text-repr-fallback {display: none;}</style><div id=\"sk-container-id-1\" class=\"sk-top-container\"><div class=\"sk-text-repr-fallback\"><pre>LogisticRegression()</pre><b>In a Jupyter environment, please rerun this cell to show the HTML representation or trust the notebook. <br />On GitHub, the HTML representation is unable to render, please try loading this page with nbviewer.org.</b></div><div class=\"sk-container\" hidden><div class=\"sk-item\"><div class=\"sk-estimator sk-toggleable\"><input class=\"sk-toggleable__control sk-hidden--visually\" id=\"sk-estimator-id-1\" type=\"checkbox\" checked><label for=\"sk-estimator-id-1\" class=\"sk-toggleable__label sk-toggleable__label-arrow\">LogisticRegression</label><div class=\"sk-toggleable__content\"><pre>LogisticRegression()</pre></div></div></div></div></div>"
            ]
          },
          "metadata": {},
          "execution_count": 12
        }
      ]
    },
    {
      "cell_type": "code",
      "source": [
        "#print(lr.predict(sc.transform([])))"
      ],
      "metadata": {
        "id": "rqzQn56APkPw"
      },
      "execution_count": 13,
      "outputs": []
    },
    {
      "cell_type": "code",
      "source": [
        "y_pred_lr = lr.predict(X_test)\n",
        "print(np.concatenate((y_pred_lr.reshape(len(y_pred_lr), 1), y_test.reshape(len(y_test), 1)), 1))"
      ],
      "metadata": {
        "id": "WZkZKz8FT83Q",
        "colab": {
          "base_uri": "https://localhost:8080/"
        },
        "outputId": "58d08d64-94a8-4da4-a165-1cfe40380ed7"
      },
      "execution_count": 14,
      "outputs": [
        {
          "output_type": "stream",
          "name": "stdout",
          "text": [
            "[[0 0]\n",
            " [0 0]\n",
            " [0 0]\n",
            " [1 0]\n",
            " [0 0]\n",
            " [0 0]\n",
            " [0 0]\n",
            " [0 0]\n",
            " [0 0]\n",
            " [0 0]\n",
            " [0 0]\n",
            " [0 0]\n",
            " [1 1]\n",
            " [1 1]\n",
            " [0 0]\n",
            " [0 0]\n",
            " [0 0]\n",
            " [0 0]\n",
            " [1 1]\n",
            " [1 0]\n",
            " [0 0]\n",
            " [0 1]\n",
            " [0 1]\n",
            " [0 0]]\n"
          ]
        }
      ]
    },
    {
      "cell_type": "code",
      "source": [
        "from sklearn.metrics import confusion_matrix, accuracy_score\n",
        "cm = confusion_matrix(y_test, y_pred_lr)\n",
        "print(cm)\n",
        "accuracy_score(y_test, y_pred_lr)"
      ],
      "metadata": {
        "id": "gyKVY_NOVmq3",
        "colab": {
          "base_uri": "https://localhost:8080/"
        },
        "outputId": "831bca13-0d9c-418e-e97c-a95de86b8d45"
      },
      "execution_count": 15,
      "outputs": [
        {
          "output_type": "stream",
          "name": "stdout",
          "text": [
            "[[17  2]\n",
            " [ 2  3]]\n"
          ]
        },
        {
          "output_type": "execute_result",
          "data": {
            "text/plain": [
              "0.8333333333333334"
            ]
          },
          "metadata": {},
          "execution_count": 15
        }
      ]
    },
    {
      "cell_type": "markdown",
      "source": [
        "### ***KNN***"
      ],
      "metadata": {
        "id": "CVXrMz8LzeVc"
      }
    },
    {
      "cell_type": "code",
      "source": [
        "from sklearn.neighbors import KNeighborsClassifier\n",
        "kn = KNeighborsClassifier(n_neighbors = 5, metric = 'minkowski', p = 2)\n",
        "kn.fit(X_train,y_train)"
      ],
      "metadata": {
        "id": "3ULjOfd7zdQd",
        "colab": {
          "base_uri": "https://localhost:8080/",
          "height": 72
        },
        "outputId": "57ecb997-3686-4cf8-d248-7ee45f85619a"
      },
      "execution_count": 16,
      "outputs": [
        {
          "output_type": "execute_result",
          "data": {
            "text/plain": [
              "KNeighborsClassifier()"
            ],
            "text/html": [
              "<style>#sk-container-id-2 {color: black;}#sk-container-id-2 pre{padding: 0;}#sk-container-id-2 div.sk-toggleable {background-color: white;}#sk-container-id-2 label.sk-toggleable__label {cursor: pointer;display: block;width: 100%;margin-bottom: 0;padding: 0.3em;box-sizing: border-box;text-align: center;}#sk-container-id-2 label.sk-toggleable__label-arrow:before {content: \"▸\";float: left;margin-right: 0.25em;color: #696969;}#sk-container-id-2 label.sk-toggleable__label-arrow:hover:before {color: black;}#sk-container-id-2 div.sk-estimator:hover label.sk-toggleable__label-arrow:before {color: black;}#sk-container-id-2 div.sk-toggleable__content {max-height: 0;max-width: 0;overflow: hidden;text-align: left;background-color: #f0f8ff;}#sk-container-id-2 div.sk-toggleable__content pre {margin: 0.2em;color: black;border-radius: 0.25em;background-color: #f0f8ff;}#sk-container-id-2 input.sk-toggleable__control:checked~div.sk-toggleable__content {max-height: 200px;max-width: 100%;overflow: auto;}#sk-container-id-2 input.sk-toggleable__control:checked~label.sk-toggleable__label-arrow:before {content: \"▾\";}#sk-container-id-2 div.sk-estimator input.sk-toggleable__control:checked~label.sk-toggleable__label {background-color: #d4ebff;}#sk-container-id-2 div.sk-label input.sk-toggleable__control:checked~label.sk-toggleable__label {background-color: #d4ebff;}#sk-container-id-2 input.sk-hidden--visually {border: 0;clip: rect(1px 1px 1px 1px);clip: rect(1px, 1px, 1px, 1px);height: 1px;margin: -1px;overflow: hidden;padding: 0;position: absolute;width: 1px;}#sk-container-id-2 div.sk-estimator {font-family: monospace;background-color: #f0f8ff;border: 1px dotted black;border-radius: 0.25em;box-sizing: border-box;margin-bottom: 0.5em;}#sk-container-id-2 div.sk-estimator:hover {background-color: #d4ebff;}#sk-container-id-2 div.sk-parallel-item::after {content: \"\";width: 100%;border-bottom: 1px solid gray;flex-grow: 1;}#sk-container-id-2 div.sk-label:hover label.sk-toggleable__label {background-color: #d4ebff;}#sk-container-id-2 div.sk-serial::before {content: \"\";position: absolute;border-left: 1px solid gray;box-sizing: border-box;top: 0;bottom: 0;left: 50%;z-index: 0;}#sk-container-id-2 div.sk-serial {display: flex;flex-direction: column;align-items: center;background-color: white;padding-right: 0.2em;padding-left: 0.2em;position: relative;}#sk-container-id-2 div.sk-item {position: relative;z-index: 1;}#sk-container-id-2 div.sk-parallel {display: flex;align-items: stretch;justify-content: center;background-color: white;position: relative;}#sk-container-id-2 div.sk-item::before, #sk-container-id-2 div.sk-parallel-item::before {content: \"\";position: absolute;border-left: 1px solid gray;box-sizing: border-box;top: 0;bottom: 0;left: 50%;z-index: -1;}#sk-container-id-2 div.sk-parallel-item {display: flex;flex-direction: column;z-index: 1;position: relative;background-color: white;}#sk-container-id-2 div.sk-parallel-item:first-child::after {align-self: flex-end;width: 50%;}#sk-container-id-2 div.sk-parallel-item:last-child::after {align-self: flex-start;width: 50%;}#sk-container-id-2 div.sk-parallel-item:only-child::after {width: 0;}#sk-container-id-2 div.sk-dashed-wrapped {border: 1px dashed gray;margin: 0 0.4em 0.5em 0.4em;box-sizing: border-box;padding-bottom: 0.4em;background-color: white;}#sk-container-id-2 div.sk-label label {font-family: monospace;font-weight: bold;display: inline-block;line-height: 1.2em;}#sk-container-id-2 div.sk-label-container {text-align: center;}#sk-container-id-2 div.sk-container {/* jupyter's `normalize.less` sets `[hidden] { display: none; }` but bootstrap.min.css set `[hidden] { display: none !important; }` so we also need the `!important` here to be able to override the default hidden behavior on the sphinx rendered scikit-learn.org. See: https://github.com/scikit-learn/scikit-learn/issues/21755 */display: inline-block !important;position: relative;}#sk-container-id-2 div.sk-text-repr-fallback {display: none;}</style><div id=\"sk-container-id-2\" class=\"sk-top-container\"><div class=\"sk-text-repr-fallback\"><pre>KNeighborsClassifier()</pre><b>In a Jupyter environment, please rerun this cell to show the HTML representation or trust the notebook. <br />On GitHub, the HTML representation is unable to render, please try loading this page with nbviewer.org.</b></div><div class=\"sk-container\" hidden><div class=\"sk-item\"><div class=\"sk-estimator sk-toggleable\"><input class=\"sk-toggleable__control sk-hidden--visually\" id=\"sk-estimator-id-2\" type=\"checkbox\" checked><label for=\"sk-estimator-id-2\" class=\"sk-toggleable__label sk-toggleable__label-arrow\">KNeighborsClassifier</label><div class=\"sk-toggleable__content\"><pre>KNeighborsClassifier()</pre></div></div></div></div></div>"
            ]
          },
          "metadata": {},
          "execution_count": 16
        }
      ]
    },
    {
      "cell_type": "code",
      "source": [
        "y_pred_kn = kn.predict(X_test)\n",
        "print(np.concatenate((y_pred_kn.reshape(len(y_pred_kn), 1), y_test.reshape(len(y_test), 1)), 1))"
      ],
      "metadata": {
        "id": "64-gH1mR5ZPB",
        "colab": {
          "base_uri": "https://localhost:8080/"
        },
        "outputId": "6fcbd837-e85e-4820-ec37-26894d051a5b"
      },
      "execution_count": 17,
      "outputs": [
        {
          "output_type": "stream",
          "name": "stdout",
          "text": [
            "[[0 0]\n",
            " [0 0]\n",
            " [0 0]\n",
            " [0 0]\n",
            " [0 0]\n",
            " [0 0]\n",
            " [0 0]\n",
            " [0 0]\n",
            " [0 0]\n",
            " [0 0]\n",
            " [0 0]\n",
            " [0 0]\n",
            " [1 1]\n",
            " [1 1]\n",
            " [0 0]\n",
            " [0 0]\n",
            " [0 0]\n",
            " [0 0]\n",
            " [1 1]\n",
            " [0 0]\n",
            " [0 0]\n",
            " [0 1]\n",
            " [0 1]\n",
            " [0 0]]\n"
          ]
        }
      ]
    },
    {
      "cell_type": "code",
      "source": [
        "cm2 = confusion_matrix(y_test, y_pred_kn)\n",
        "print(cm2)\n",
        "accuracy_score(y_test, y_pred_kn)"
      ],
      "metadata": {
        "id": "uYOdHqDB3rMg",
        "colab": {
          "base_uri": "https://localhost:8080/"
        },
        "outputId": "7099c7da-b56a-4d3d-bebe-1ed64abb8e51"
      },
      "execution_count": 18,
      "outputs": [
        {
          "output_type": "stream",
          "name": "stdout",
          "text": [
            "[[19  0]\n",
            " [ 2  3]]\n"
          ]
        },
        {
          "output_type": "execute_result",
          "data": {
            "text/plain": [
              "0.9166666666666666"
            ]
          },
          "metadata": {},
          "execution_count": 18
        }
      ]
    },
    {
      "cell_type": "markdown",
      "source": [
        "### ***SVM***"
      ],
      "metadata": {
        "id": "HhsrfKS96BJj"
      }
    },
    {
      "cell_type": "code",
      "source": [
        "from sklearn.svm import SVC\n",
        "svc = SVC(kernel = 'linear', random_state = 0)\n",
        "svc.fit(X_train,y_train)"
      ],
      "metadata": {
        "id": "rB12kz-Z6MSS",
        "colab": {
          "base_uri": "https://localhost:8080/",
          "height": 72
        },
        "outputId": "3a3a9330-df88-434f-c2c4-3144305cef2d"
      },
      "execution_count": 19,
      "outputs": [
        {
          "output_type": "execute_result",
          "data": {
            "text/plain": [
              "SVC(kernel='linear', random_state=0)"
            ],
            "text/html": [
              "<style>#sk-container-id-3 {color: black;}#sk-container-id-3 pre{padding: 0;}#sk-container-id-3 div.sk-toggleable {background-color: white;}#sk-container-id-3 label.sk-toggleable__label {cursor: pointer;display: block;width: 100%;margin-bottom: 0;padding: 0.3em;box-sizing: border-box;text-align: center;}#sk-container-id-3 label.sk-toggleable__label-arrow:before {content: \"▸\";float: left;margin-right: 0.25em;color: #696969;}#sk-container-id-3 label.sk-toggleable__label-arrow:hover:before {color: black;}#sk-container-id-3 div.sk-estimator:hover label.sk-toggleable__label-arrow:before {color: black;}#sk-container-id-3 div.sk-toggleable__content {max-height: 0;max-width: 0;overflow: hidden;text-align: left;background-color: #f0f8ff;}#sk-container-id-3 div.sk-toggleable__content pre {margin: 0.2em;color: black;border-radius: 0.25em;background-color: #f0f8ff;}#sk-container-id-3 input.sk-toggleable__control:checked~div.sk-toggleable__content {max-height: 200px;max-width: 100%;overflow: auto;}#sk-container-id-3 input.sk-toggleable__control:checked~label.sk-toggleable__label-arrow:before {content: \"▾\";}#sk-container-id-3 div.sk-estimator input.sk-toggleable__control:checked~label.sk-toggleable__label {background-color: #d4ebff;}#sk-container-id-3 div.sk-label input.sk-toggleable__control:checked~label.sk-toggleable__label {background-color: #d4ebff;}#sk-container-id-3 input.sk-hidden--visually {border: 0;clip: rect(1px 1px 1px 1px);clip: rect(1px, 1px, 1px, 1px);height: 1px;margin: -1px;overflow: hidden;padding: 0;position: absolute;width: 1px;}#sk-container-id-3 div.sk-estimator {font-family: monospace;background-color: #f0f8ff;border: 1px dotted black;border-radius: 0.25em;box-sizing: border-box;margin-bottom: 0.5em;}#sk-container-id-3 div.sk-estimator:hover {background-color: #d4ebff;}#sk-container-id-3 div.sk-parallel-item::after {content: \"\";width: 100%;border-bottom: 1px solid gray;flex-grow: 1;}#sk-container-id-3 div.sk-label:hover label.sk-toggleable__label {background-color: #d4ebff;}#sk-container-id-3 div.sk-serial::before {content: \"\";position: absolute;border-left: 1px solid gray;box-sizing: border-box;top: 0;bottom: 0;left: 50%;z-index: 0;}#sk-container-id-3 div.sk-serial {display: flex;flex-direction: column;align-items: center;background-color: white;padding-right: 0.2em;padding-left: 0.2em;position: relative;}#sk-container-id-3 div.sk-item {position: relative;z-index: 1;}#sk-container-id-3 div.sk-parallel {display: flex;align-items: stretch;justify-content: center;background-color: white;position: relative;}#sk-container-id-3 div.sk-item::before, #sk-container-id-3 div.sk-parallel-item::before {content: \"\";position: absolute;border-left: 1px solid gray;box-sizing: border-box;top: 0;bottom: 0;left: 50%;z-index: -1;}#sk-container-id-3 div.sk-parallel-item {display: flex;flex-direction: column;z-index: 1;position: relative;background-color: white;}#sk-container-id-3 div.sk-parallel-item:first-child::after {align-self: flex-end;width: 50%;}#sk-container-id-3 div.sk-parallel-item:last-child::after {align-self: flex-start;width: 50%;}#sk-container-id-3 div.sk-parallel-item:only-child::after {width: 0;}#sk-container-id-3 div.sk-dashed-wrapped {border: 1px dashed gray;margin: 0 0.4em 0.5em 0.4em;box-sizing: border-box;padding-bottom: 0.4em;background-color: white;}#sk-container-id-3 div.sk-label label {font-family: monospace;font-weight: bold;display: inline-block;line-height: 1.2em;}#sk-container-id-3 div.sk-label-container {text-align: center;}#sk-container-id-3 div.sk-container {/* jupyter's `normalize.less` sets `[hidden] { display: none; }` but bootstrap.min.css set `[hidden] { display: none !important; }` so we also need the `!important` here to be able to override the default hidden behavior on the sphinx rendered scikit-learn.org. See: https://github.com/scikit-learn/scikit-learn/issues/21755 */display: inline-block !important;position: relative;}#sk-container-id-3 div.sk-text-repr-fallback {display: none;}</style><div id=\"sk-container-id-3\" class=\"sk-top-container\"><div class=\"sk-text-repr-fallback\"><pre>SVC(kernel=&#x27;linear&#x27;, random_state=0)</pre><b>In a Jupyter environment, please rerun this cell to show the HTML representation or trust the notebook. <br />On GitHub, the HTML representation is unable to render, please try loading this page with nbviewer.org.</b></div><div class=\"sk-container\" hidden><div class=\"sk-item\"><div class=\"sk-estimator sk-toggleable\"><input class=\"sk-toggleable__control sk-hidden--visually\" id=\"sk-estimator-id-3\" type=\"checkbox\" checked><label for=\"sk-estimator-id-3\" class=\"sk-toggleable__label sk-toggleable__label-arrow\">SVC</label><div class=\"sk-toggleable__content\"><pre>SVC(kernel=&#x27;linear&#x27;, random_state=0)</pre></div></div></div></div></div>"
            ]
          },
          "metadata": {},
          "execution_count": 19
        }
      ]
    },
    {
      "cell_type": "code",
      "source": [
        "y_pred_svc = svc.predict(X_test)\n",
        "print(np.concatenate((y_pred_svc.reshape(len(y_pred_svc), 1), y_test.reshape(len(y_test), 1)), 1))"
      ],
      "metadata": {
        "id": "H9WBPOd87DsK",
        "colab": {
          "base_uri": "https://localhost:8080/"
        },
        "outputId": "f79a7565-f782-4ee1-e1dd-9fd074b56f12"
      },
      "execution_count": 20,
      "outputs": [
        {
          "output_type": "stream",
          "name": "stdout",
          "text": [
            "[[0 0]\n",
            " [0 0]\n",
            " [0 0]\n",
            " [0 0]\n",
            " [0 0]\n",
            " [0 0]\n",
            " [0 0]\n",
            " [0 0]\n",
            " [0 0]\n",
            " [0 0]\n",
            " [0 0]\n",
            " [0 0]\n",
            " [1 1]\n",
            " [1 1]\n",
            " [0 0]\n",
            " [0 0]\n",
            " [0 0]\n",
            " [0 0]\n",
            " [1 1]\n",
            " [1 0]\n",
            " [0 0]\n",
            " [0 1]\n",
            " [1 1]\n",
            " [0 0]]\n"
          ]
        }
      ]
    },
    {
      "cell_type": "code",
      "source": [
        "cm3 = confusion_matrix(y_test, y_pred_svc)\n",
        "print(cm3)\n",
        "accuracy_score(y_test, y_pred_svc)"
      ],
      "metadata": {
        "id": "PuSXsv7w7eoC",
        "colab": {
          "base_uri": "https://localhost:8080/"
        },
        "outputId": "c9c37feb-bec7-4a08-de3d-2cf92358fb73"
      },
      "execution_count": 21,
      "outputs": [
        {
          "output_type": "stream",
          "name": "stdout",
          "text": [
            "[[18  1]\n",
            " [ 1  4]]\n"
          ]
        },
        {
          "output_type": "execute_result",
          "data": {
            "text/plain": [
              "0.9166666666666666"
            ]
          },
          "metadata": {},
          "execution_count": 21
        }
      ]
    },
    {
      "cell_type": "markdown",
      "source": [
        "### ***Naive Bayes***"
      ],
      "metadata": {
        "id": "6ZJt9JuD8hey"
      }
    },
    {
      "cell_type": "code",
      "source": [
        "from sklearn.naive_bayes import GaussianNB\n",
        "nb = GaussianNB()\n",
        "nb.fit(X_train, y_train)"
      ],
      "metadata": {
        "id": "NMVXaTJ-8qVJ",
        "colab": {
          "base_uri": "https://localhost:8080/",
          "height": 72
        },
        "outputId": "8cf43764-06d6-4ea9-bfac-ec967ce80fb4"
      },
      "execution_count": 22,
      "outputs": [
        {
          "output_type": "execute_result",
          "data": {
            "text/plain": [
              "GaussianNB()"
            ],
            "text/html": [
              "<style>#sk-container-id-4 {color: black;}#sk-container-id-4 pre{padding: 0;}#sk-container-id-4 div.sk-toggleable {background-color: white;}#sk-container-id-4 label.sk-toggleable__label {cursor: pointer;display: block;width: 100%;margin-bottom: 0;padding: 0.3em;box-sizing: border-box;text-align: center;}#sk-container-id-4 label.sk-toggleable__label-arrow:before {content: \"▸\";float: left;margin-right: 0.25em;color: #696969;}#sk-container-id-4 label.sk-toggleable__label-arrow:hover:before {color: black;}#sk-container-id-4 div.sk-estimator:hover label.sk-toggleable__label-arrow:before {color: black;}#sk-container-id-4 div.sk-toggleable__content {max-height: 0;max-width: 0;overflow: hidden;text-align: left;background-color: #f0f8ff;}#sk-container-id-4 div.sk-toggleable__content pre {margin: 0.2em;color: black;border-radius: 0.25em;background-color: #f0f8ff;}#sk-container-id-4 input.sk-toggleable__control:checked~div.sk-toggleable__content {max-height: 200px;max-width: 100%;overflow: auto;}#sk-container-id-4 input.sk-toggleable__control:checked~label.sk-toggleable__label-arrow:before {content: \"▾\";}#sk-container-id-4 div.sk-estimator input.sk-toggleable__control:checked~label.sk-toggleable__label {background-color: #d4ebff;}#sk-container-id-4 div.sk-label input.sk-toggleable__control:checked~label.sk-toggleable__label {background-color: #d4ebff;}#sk-container-id-4 input.sk-hidden--visually {border: 0;clip: rect(1px 1px 1px 1px);clip: rect(1px, 1px, 1px, 1px);height: 1px;margin: -1px;overflow: hidden;padding: 0;position: absolute;width: 1px;}#sk-container-id-4 div.sk-estimator {font-family: monospace;background-color: #f0f8ff;border: 1px dotted black;border-radius: 0.25em;box-sizing: border-box;margin-bottom: 0.5em;}#sk-container-id-4 div.sk-estimator:hover {background-color: #d4ebff;}#sk-container-id-4 div.sk-parallel-item::after {content: \"\";width: 100%;border-bottom: 1px solid gray;flex-grow: 1;}#sk-container-id-4 div.sk-label:hover label.sk-toggleable__label {background-color: #d4ebff;}#sk-container-id-4 div.sk-serial::before {content: \"\";position: absolute;border-left: 1px solid gray;box-sizing: border-box;top: 0;bottom: 0;left: 50%;z-index: 0;}#sk-container-id-4 div.sk-serial {display: flex;flex-direction: column;align-items: center;background-color: white;padding-right: 0.2em;padding-left: 0.2em;position: relative;}#sk-container-id-4 div.sk-item {position: relative;z-index: 1;}#sk-container-id-4 div.sk-parallel {display: flex;align-items: stretch;justify-content: center;background-color: white;position: relative;}#sk-container-id-4 div.sk-item::before, #sk-container-id-4 div.sk-parallel-item::before {content: \"\";position: absolute;border-left: 1px solid gray;box-sizing: border-box;top: 0;bottom: 0;left: 50%;z-index: -1;}#sk-container-id-4 div.sk-parallel-item {display: flex;flex-direction: column;z-index: 1;position: relative;background-color: white;}#sk-container-id-4 div.sk-parallel-item:first-child::after {align-self: flex-end;width: 50%;}#sk-container-id-4 div.sk-parallel-item:last-child::after {align-self: flex-start;width: 50%;}#sk-container-id-4 div.sk-parallel-item:only-child::after {width: 0;}#sk-container-id-4 div.sk-dashed-wrapped {border: 1px dashed gray;margin: 0 0.4em 0.5em 0.4em;box-sizing: border-box;padding-bottom: 0.4em;background-color: white;}#sk-container-id-4 div.sk-label label {font-family: monospace;font-weight: bold;display: inline-block;line-height: 1.2em;}#sk-container-id-4 div.sk-label-container {text-align: center;}#sk-container-id-4 div.sk-container {/* jupyter's `normalize.less` sets `[hidden] { display: none; }` but bootstrap.min.css set `[hidden] { display: none !important; }` so we also need the `!important` here to be able to override the default hidden behavior on the sphinx rendered scikit-learn.org. See: https://github.com/scikit-learn/scikit-learn/issues/21755 */display: inline-block !important;position: relative;}#sk-container-id-4 div.sk-text-repr-fallback {display: none;}</style><div id=\"sk-container-id-4\" class=\"sk-top-container\"><div class=\"sk-text-repr-fallback\"><pre>GaussianNB()</pre><b>In a Jupyter environment, please rerun this cell to show the HTML representation or trust the notebook. <br />On GitHub, the HTML representation is unable to render, please try loading this page with nbviewer.org.</b></div><div class=\"sk-container\" hidden><div class=\"sk-item\"><div class=\"sk-estimator sk-toggleable\"><input class=\"sk-toggleable__control sk-hidden--visually\" id=\"sk-estimator-id-4\" type=\"checkbox\" checked><label for=\"sk-estimator-id-4\" class=\"sk-toggleable__label sk-toggleable__label-arrow\">GaussianNB</label><div class=\"sk-toggleable__content\"><pre>GaussianNB()</pre></div></div></div></div></div>"
            ]
          },
          "metadata": {},
          "execution_count": 22
        }
      ]
    },
    {
      "cell_type": "code",
      "source": [
        "y_pred_nb = nb.predict(X_test)\n",
        "print(np.concatenate((y_pred_nb.reshape(len(y_pred_nb), 1), y_test.reshape(len(y_test), 1)), 1))"
      ],
      "metadata": {
        "id": "zwxBXNAi9Pb6",
        "colab": {
          "base_uri": "https://localhost:8080/"
        },
        "outputId": "a8a2c5eb-9b78-4524-9c43-1bdfe5479a25"
      },
      "execution_count": 23,
      "outputs": [
        {
          "output_type": "stream",
          "name": "stdout",
          "text": [
            "[[0 0]\n",
            " [0 0]\n",
            " [0 0]\n",
            " [0 0]\n",
            " [0 0]\n",
            " [0 0]\n",
            " [0 0]\n",
            " [0 0]\n",
            " [0 0]\n",
            " [0 0]\n",
            " [0 0]\n",
            " [0 0]\n",
            " [1 1]\n",
            " [1 1]\n",
            " [0 0]\n",
            " [0 0]\n",
            " [0 0]\n",
            " [0 0]\n",
            " [1 1]\n",
            " [1 0]\n",
            " [0 0]\n",
            " [1 1]\n",
            " [1 1]\n",
            " [0 0]]\n"
          ]
        }
      ]
    },
    {
      "cell_type": "code",
      "source": [
        "cm4 = confusion_matrix(y_test, y_pred_nb)\n",
        "print(cm4)\n",
        "accuracy_score(y_test, y_pred_nb)"
      ],
      "metadata": {
        "id": "D4Y2BUYZ9jKh",
        "colab": {
          "base_uri": "https://localhost:8080/"
        },
        "outputId": "6c169d13-4fe6-4a9d-b7aa-c68daaf6b762"
      },
      "execution_count": 24,
      "outputs": [
        {
          "output_type": "stream",
          "name": "stdout",
          "text": [
            "[[18  1]\n",
            " [ 0  5]]\n"
          ]
        },
        {
          "output_type": "execute_result",
          "data": {
            "text/plain": [
              "0.9583333333333334"
            ]
          },
          "metadata": {},
          "execution_count": 24
        }
      ]
    },
    {
      "cell_type": "markdown",
      "source": [
        "### ***DECISION TREE***"
      ],
      "metadata": {
        "id": "uNnvTXAV95vZ"
      }
    },
    {
      "cell_type": "code",
      "source": [
        "from sklearn.tree import DecisionTreeClassifier\n",
        "dt = DecisionTreeClassifier(criterion = 'entropy', random_state = 0)\n",
        "dt.fit(X_train, y_train)"
      ],
      "metadata": {
        "id": "ZwdWpGkU9_CB",
        "colab": {
          "base_uri": "https://localhost:8080/",
          "height": 72
        },
        "outputId": "03fa1e74-dbed-4389-8485-7bc088e26295"
      },
      "execution_count": 25,
      "outputs": [
        {
          "output_type": "execute_result",
          "data": {
            "text/plain": [
              "DecisionTreeClassifier(criterion='entropy', random_state=0)"
            ],
            "text/html": [
              "<style>#sk-container-id-5 {color: black;}#sk-container-id-5 pre{padding: 0;}#sk-container-id-5 div.sk-toggleable {background-color: white;}#sk-container-id-5 label.sk-toggleable__label {cursor: pointer;display: block;width: 100%;margin-bottom: 0;padding: 0.3em;box-sizing: border-box;text-align: center;}#sk-container-id-5 label.sk-toggleable__label-arrow:before {content: \"▸\";float: left;margin-right: 0.25em;color: #696969;}#sk-container-id-5 label.sk-toggleable__label-arrow:hover:before {color: black;}#sk-container-id-5 div.sk-estimator:hover label.sk-toggleable__label-arrow:before {color: black;}#sk-container-id-5 div.sk-toggleable__content {max-height: 0;max-width: 0;overflow: hidden;text-align: left;background-color: #f0f8ff;}#sk-container-id-5 div.sk-toggleable__content pre {margin: 0.2em;color: black;border-radius: 0.25em;background-color: #f0f8ff;}#sk-container-id-5 input.sk-toggleable__control:checked~div.sk-toggleable__content {max-height: 200px;max-width: 100%;overflow: auto;}#sk-container-id-5 input.sk-toggleable__control:checked~label.sk-toggleable__label-arrow:before {content: \"▾\";}#sk-container-id-5 div.sk-estimator input.sk-toggleable__control:checked~label.sk-toggleable__label {background-color: #d4ebff;}#sk-container-id-5 div.sk-label input.sk-toggleable__control:checked~label.sk-toggleable__label {background-color: #d4ebff;}#sk-container-id-5 input.sk-hidden--visually {border: 0;clip: rect(1px 1px 1px 1px);clip: rect(1px, 1px, 1px, 1px);height: 1px;margin: -1px;overflow: hidden;padding: 0;position: absolute;width: 1px;}#sk-container-id-5 div.sk-estimator {font-family: monospace;background-color: #f0f8ff;border: 1px dotted black;border-radius: 0.25em;box-sizing: border-box;margin-bottom: 0.5em;}#sk-container-id-5 div.sk-estimator:hover {background-color: #d4ebff;}#sk-container-id-5 div.sk-parallel-item::after {content: \"\";width: 100%;border-bottom: 1px solid gray;flex-grow: 1;}#sk-container-id-5 div.sk-label:hover label.sk-toggleable__label {background-color: #d4ebff;}#sk-container-id-5 div.sk-serial::before {content: \"\";position: absolute;border-left: 1px solid gray;box-sizing: border-box;top: 0;bottom: 0;left: 50%;z-index: 0;}#sk-container-id-5 div.sk-serial {display: flex;flex-direction: column;align-items: center;background-color: white;padding-right: 0.2em;padding-left: 0.2em;position: relative;}#sk-container-id-5 div.sk-item {position: relative;z-index: 1;}#sk-container-id-5 div.sk-parallel {display: flex;align-items: stretch;justify-content: center;background-color: white;position: relative;}#sk-container-id-5 div.sk-item::before, #sk-container-id-5 div.sk-parallel-item::before {content: \"\";position: absolute;border-left: 1px solid gray;box-sizing: border-box;top: 0;bottom: 0;left: 50%;z-index: -1;}#sk-container-id-5 div.sk-parallel-item {display: flex;flex-direction: column;z-index: 1;position: relative;background-color: white;}#sk-container-id-5 div.sk-parallel-item:first-child::after {align-self: flex-end;width: 50%;}#sk-container-id-5 div.sk-parallel-item:last-child::after {align-self: flex-start;width: 50%;}#sk-container-id-5 div.sk-parallel-item:only-child::after {width: 0;}#sk-container-id-5 div.sk-dashed-wrapped {border: 1px dashed gray;margin: 0 0.4em 0.5em 0.4em;box-sizing: border-box;padding-bottom: 0.4em;background-color: white;}#sk-container-id-5 div.sk-label label {font-family: monospace;font-weight: bold;display: inline-block;line-height: 1.2em;}#sk-container-id-5 div.sk-label-container {text-align: center;}#sk-container-id-5 div.sk-container {/* jupyter's `normalize.less` sets `[hidden] { display: none; }` but bootstrap.min.css set `[hidden] { display: none !important; }` so we also need the `!important` here to be able to override the default hidden behavior on the sphinx rendered scikit-learn.org. See: https://github.com/scikit-learn/scikit-learn/issues/21755 */display: inline-block !important;position: relative;}#sk-container-id-5 div.sk-text-repr-fallback {display: none;}</style><div id=\"sk-container-id-5\" class=\"sk-top-container\"><div class=\"sk-text-repr-fallback\"><pre>DecisionTreeClassifier(criterion=&#x27;entropy&#x27;, random_state=0)</pre><b>In a Jupyter environment, please rerun this cell to show the HTML representation or trust the notebook. <br />On GitHub, the HTML representation is unable to render, please try loading this page with nbviewer.org.</b></div><div class=\"sk-container\" hidden><div class=\"sk-item\"><div class=\"sk-estimator sk-toggleable\"><input class=\"sk-toggleable__control sk-hidden--visually\" id=\"sk-estimator-id-5\" type=\"checkbox\" checked><label for=\"sk-estimator-id-5\" class=\"sk-toggleable__label sk-toggleable__label-arrow\">DecisionTreeClassifier</label><div class=\"sk-toggleable__content\"><pre>DecisionTreeClassifier(criterion=&#x27;entropy&#x27;, random_state=0)</pre></div></div></div></div></div>"
            ]
          },
          "metadata": {},
          "execution_count": 25
        }
      ]
    },
    {
      "cell_type": "code",
      "source": [
        "y_pred_dt = dt.predict(X_test)\n",
        "print(np.concatenate((y_pred_dt.reshape(len(y_pred_dt), 1), y_test.reshape(len(y_test), 1)), 1))"
      ],
      "metadata": {
        "id": "Y9dDHWLI-huZ",
        "colab": {
          "base_uri": "https://localhost:8080/"
        },
        "outputId": "9c196c8f-cc02-4558-90f8-72af8ecdb342"
      },
      "execution_count": 26,
      "outputs": [
        {
          "output_type": "stream",
          "name": "stdout",
          "text": [
            "[[0 0]\n",
            " [0 0]\n",
            " [0 0]\n",
            " [0 0]\n",
            " [0 0]\n",
            " [0 0]\n",
            " [0 0]\n",
            " [0 0]\n",
            " [0 0]\n",
            " [0 0]\n",
            " [0 0]\n",
            " [0 0]\n",
            " [1 1]\n",
            " [1 1]\n",
            " [0 0]\n",
            " [0 0]\n",
            " [0 0]\n",
            " [0 0]\n",
            " [1 1]\n",
            " [0 0]\n",
            " [0 0]\n",
            " [1 1]\n",
            " [1 1]\n",
            " [0 0]]\n"
          ]
        }
      ]
    },
    {
      "cell_type": "code",
      "source": [
        "cm5 = confusion_matrix(y_test, y_pred_dt)\n",
        "print(cm5)\n",
        "accuracy_score(y_test, y_pred_dt)"
      ],
      "metadata": {
        "id": "V23aygYB-5g5",
        "colab": {
          "base_uri": "https://localhost:8080/"
        },
        "outputId": "a1ed6397-010b-4c9a-b0c6-16d003c1bf2c"
      },
      "execution_count": 27,
      "outputs": [
        {
          "output_type": "stream",
          "name": "stdout",
          "text": [
            "[[19  0]\n",
            " [ 0  5]]\n"
          ]
        },
        {
          "output_type": "execute_result",
          "data": {
            "text/plain": [
              "1.0"
            ]
          },
          "metadata": {},
          "execution_count": 27
        }
      ]
    },
    {
      "cell_type": "markdown",
      "source": [
        "### ***RANDOM FOREST***"
      ],
      "metadata": {
        "id": "7pvt_fW8BPYA"
      }
    },
    {
      "cell_type": "code",
      "source": [
        "from sklearn.ensemble import RandomForestClassifier\n",
        "rf = RandomForestClassifier(n_estimators = 10, criterion = 'entropy', random_state = 0)\n",
        "rf.fit(X_train,y_train)"
      ],
      "metadata": {
        "id": "KEjh8Vw5BVFg",
        "colab": {
          "base_uri": "https://localhost:8080/",
          "height": 72
        },
        "outputId": "becfd646-2b24-4c70-90e4-39190286577d"
      },
      "execution_count": 28,
      "outputs": [
        {
          "output_type": "execute_result",
          "data": {
            "text/plain": [
              "RandomForestClassifier(criterion='entropy', n_estimators=10, random_state=0)"
            ],
            "text/html": [
              "<style>#sk-container-id-6 {color: black;}#sk-container-id-6 pre{padding: 0;}#sk-container-id-6 div.sk-toggleable {background-color: white;}#sk-container-id-6 label.sk-toggleable__label {cursor: pointer;display: block;width: 100%;margin-bottom: 0;padding: 0.3em;box-sizing: border-box;text-align: center;}#sk-container-id-6 label.sk-toggleable__label-arrow:before {content: \"▸\";float: left;margin-right: 0.25em;color: #696969;}#sk-container-id-6 label.sk-toggleable__label-arrow:hover:before {color: black;}#sk-container-id-6 div.sk-estimator:hover label.sk-toggleable__label-arrow:before {color: black;}#sk-container-id-6 div.sk-toggleable__content {max-height: 0;max-width: 0;overflow: hidden;text-align: left;background-color: #f0f8ff;}#sk-container-id-6 div.sk-toggleable__content pre {margin: 0.2em;color: black;border-radius: 0.25em;background-color: #f0f8ff;}#sk-container-id-6 input.sk-toggleable__control:checked~div.sk-toggleable__content {max-height: 200px;max-width: 100%;overflow: auto;}#sk-container-id-6 input.sk-toggleable__control:checked~label.sk-toggleable__label-arrow:before {content: \"▾\";}#sk-container-id-6 div.sk-estimator input.sk-toggleable__control:checked~label.sk-toggleable__label {background-color: #d4ebff;}#sk-container-id-6 div.sk-label input.sk-toggleable__control:checked~label.sk-toggleable__label {background-color: #d4ebff;}#sk-container-id-6 input.sk-hidden--visually {border: 0;clip: rect(1px 1px 1px 1px);clip: rect(1px, 1px, 1px, 1px);height: 1px;margin: -1px;overflow: hidden;padding: 0;position: absolute;width: 1px;}#sk-container-id-6 div.sk-estimator {font-family: monospace;background-color: #f0f8ff;border: 1px dotted black;border-radius: 0.25em;box-sizing: border-box;margin-bottom: 0.5em;}#sk-container-id-6 div.sk-estimator:hover {background-color: #d4ebff;}#sk-container-id-6 div.sk-parallel-item::after {content: \"\";width: 100%;border-bottom: 1px solid gray;flex-grow: 1;}#sk-container-id-6 div.sk-label:hover label.sk-toggleable__label {background-color: #d4ebff;}#sk-container-id-6 div.sk-serial::before {content: \"\";position: absolute;border-left: 1px solid gray;box-sizing: border-box;top: 0;bottom: 0;left: 50%;z-index: 0;}#sk-container-id-6 div.sk-serial {display: flex;flex-direction: column;align-items: center;background-color: white;padding-right: 0.2em;padding-left: 0.2em;position: relative;}#sk-container-id-6 div.sk-item {position: relative;z-index: 1;}#sk-container-id-6 div.sk-parallel {display: flex;align-items: stretch;justify-content: center;background-color: white;position: relative;}#sk-container-id-6 div.sk-item::before, #sk-container-id-6 div.sk-parallel-item::before {content: \"\";position: absolute;border-left: 1px solid gray;box-sizing: border-box;top: 0;bottom: 0;left: 50%;z-index: -1;}#sk-container-id-6 div.sk-parallel-item {display: flex;flex-direction: column;z-index: 1;position: relative;background-color: white;}#sk-container-id-6 div.sk-parallel-item:first-child::after {align-self: flex-end;width: 50%;}#sk-container-id-6 div.sk-parallel-item:last-child::after {align-self: flex-start;width: 50%;}#sk-container-id-6 div.sk-parallel-item:only-child::after {width: 0;}#sk-container-id-6 div.sk-dashed-wrapped {border: 1px dashed gray;margin: 0 0.4em 0.5em 0.4em;box-sizing: border-box;padding-bottom: 0.4em;background-color: white;}#sk-container-id-6 div.sk-label label {font-family: monospace;font-weight: bold;display: inline-block;line-height: 1.2em;}#sk-container-id-6 div.sk-label-container {text-align: center;}#sk-container-id-6 div.sk-container {/* jupyter's `normalize.less` sets `[hidden] { display: none; }` but bootstrap.min.css set `[hidden] { display: none !important; }` so we also need the `!important` here to be able to override the default hidden behavior on the sphinx rendered scikit-learn.org. See: https://github.com/scikit-learn/scikit-learn/issues/21755 */display: inline-block !important;position: relative;}#sk-container-id-6 div.sk-text-repr-fallback {display: none;}</style><div id=\"sk-container-id-6\" class=\"sk-top-container\"><div class=\"sk-text-repr-fallback\"><pre>RandomForestClassifier(criterion=&#x27;entropy&#x27;, n_estimators=10, random_state=0)</pre><b>In a Jupyter environment, please rerun this cell to show the HTML representation or trust the notebook. <br />On GitHub, the HTML representation is unable to render, please try loading this page with nbviewer.org.</b></div><div class=\"sk-container\" hidden><div class=\"sk-item\"><div class=\"sk-estimator sk-toggleable\"><input class=\"sk-toggleable__control sk-hidden--visually\" id=\"sk-estimator-id-6\" type=\"checkbox\" checked><label for=\"sk-estimator-id-6\" class=\"sk-toggleable__label sk-toggleable__label-arrow\">RandomForestClassifier</label><div class=\"sk-toggleable__content\"><pre>RandomForestClassifier(criterion=&#x27;entropy&#x27;, n_estimators=10, random_state=0)</pre></div></div></div></div></div>"
            ]
          },
          "metadata": {},
          "execution_count": 28
        }
      ]
    },
    {
      "cell_type": "code",
      "source": [
        "y_pred_rf = rf.predict(X_test)\n",
        "print(np.concatenate((y_pred_nb.reshape(len(y_pred_nb), 1), y_test.reshape(len(y_test), 1)), 1))"
      ],
      "metadata": {
        "id": "vOHX5z9sB95o",
        "colab": {
          "base_uri": "https://localhost:8080/"
        },
        "outputId": "d1e820a1-1968-4842-83dd-4927ce9e444d"
      },
      "execution_count": 29,
      "outputs": [
        {
          "output_type": "stream",
          "name": "stdout",
          "text": [
            "[[0 0]\n",
            " [0 0]\n",
            " [0 0]\n",
            " [0 0]\n",
            " [0 0]\n",
            " [0 0]\n",
            " [0 0]\n",
            " [0 0]\n",
            " [0 0]\n",
            " [0 0]\n",
            " [0 0]\n",
            " [0 0]\n",
            " [1 1]\n",
            " [1 1]\n",
            " [0 0]\n",
            " [0 0]\n",
            " [0 0]\n",
            " [0 0]\n",
            " [1 1]\n",
            " [1 0]\n",
            " [0 0]\n",
            " [1 1]\n",
            " [1 1]\n",
            " [0 0]]\n"
          ]
        }
      ]
    },
    {
      "cell_type": "code",
      "source": [
        "cm6 = confusion_matrix(y_test, y_pred_rf)\n",
        "print(cm6)\n",
        "accuracy_score(y_test, y_pred_rf)"
      ],
      "metadata": {
        "id": "fc8jK8OcCP0P",
        "colab": {
          "base_uri": "https://localhost:8080/"
        },
        "outputId": "464312d2-9ef8-4efc-eb9e-ca0b9addaa65"
      },
      "execution_count": 30,
      "outputs": [
        {
          "output_type": "stream",
          "name": "stdout",
          "text": [
            "[[19  0]\n",
            " [ 1  4]]\n"
          ]
        },
        {
          "output_type": "execute_result",
          "data": {
            "text/plain": [
              "0.9583333333333334"
            ]
          },
          "metadata": {},
          "execution_count": 30
        }
      ]
    },
    {
      "cell_type": "code",
      "source": [
        "import pickle\n",
        "with open('anemia_pred.pkl', 'wb') as f:\n",
        "    pickle.dump(nb, f)\n",
        "with open('scaler.pkl', 'wb') as f:\n",
        "    pickle.dump(sc, f)"
      ],
      "metadata": {
        "id": "Vu8w1vY69iZr"
      },
      "execution_count": 31,
      "outputs": []
    },
    {
      "cell_type": "code",
      "source": [],
      "metadata": {
        "id": "j56_1o7m-VK1"
      },
      "execution_count": 31,
      "outputs": []
    }
  ]
}